{
 "cells": [
  {
   "cell_type": "code",
   "execution_count": 1,
   "metadata": {},
   "outputs": [],
   "source": [
    "import sys\n",
    "\n",
    "sys.path.append(r\"../\")"
   ]
  },
  {
   "cell_type": "code",
   "execution_count": 2,
   "metadata": {},
   "outputs": [
    {
     "name": "stderr",
     "output_type": "stream",
     "text": [
      "c:\\Users\\realj\\.conda\\envs\\wf\\lib\\site-packages\\tqdm\\auto.py:21: TqdmWarning: IProgress not found. Please update jupyter and ipywidgets. See https://ipywidgets.readthedocs.io/en/stable/user_install.html\n",
      "  from .autonotebook import tqdm as notebook_tqdm\n",
      "Warning : `load_model` does not return WordVectorModel or SupervisedModel any more, but a `FastText` object which is very similar.\n",
      "Warning : `load_model` does not return WordVectorModel or SupervisedModel any more, but a `FastText` object which is very similar.\n"
     ]
    }
   ],
   "source": [
    "from model_server import embedding_2022, embedding_2023"
   ]
  },
  {
   "cell_type": "code",
   "execution_count": 13,
   "metadata": {},
   "outputs": [
    {
     "name": "stdout",
     "output_type": "stream",
     "text": [
      "[ 0.00530414 -0.00791464  0.05770839 -0.04767495  0.04842691 -0.10185029\n",
      "  0.00532326 -0.05901366  0.10505775  0.09298488 -0.0874391  -0.0749343\n",
      "  0.01578764 -0.1033012  -0.04602905  0.0173085   0.0204022   0.03264394\n",
      "  0.13164976 -0.16020752  0.03365157  0.0202427   0.0214855  -0.10507796\n",
      "  0.1171799   0.06634922 -0.02482978  0.00562747 -0.06810831  0.08793703\n",
      " -0.07700486  0.09756308 -0.03602397 -0.09396364 -0.11065444 -0.00147327\n",
      "  0.08117233 -0.05620614  0.04827002  0.00547703  0.06629473  0.11792666\n",
      "  0.03874554 -0.12406135 -0.17776504 -0.02980296  0.09038927  0.11889331\n",
      " -0.0610709  -0.00385957 -0.02667907  0.00891473 -0.03981521  0.09697708\n",
      " -0.04117987  0.08377808  0.02207229 -0.00592471 -0.00609628 -0.00550439\n",
      "  0.05566936 -0.00891021  0.07948691  0.15074727 -0.07984428 -0.03045629\n",
      " -0.02234788  0.07794363  0.05153761  0.00090268 -0.14778227 -0.04376447\n",
      "  0.06469885 -0.06427831 -0.12042575  0.0285423   0.05485092  0.04382396\n",
      "  0.03397284 -0.02585276 -0.06760542  0.15502569 -0.04214216  0.09083604\n",
      " -0.06377573 -0.03907359 -0.00988929 -0.0195474   0.00835979 -0.12296401\n",
      "  0.0657422  -0.00387089  0.02232377 -0.23600613  0.10223135 -0.02196387\n",
      "  0.04162207  0.1178069  -0.06794747 -0.05101667] <class 'numpy.ndarray'>\n"
     ]
    }
   ],
   "source": [
    "test = embedding_2023.get_word_vector(\"科技发展新趋势太厉害啦\")\n",
    "print(test, type(test))"
   ]
  },
  {
   "cell_type": "code",
   "execution_count": 4,
   "metadata": {},
   "outputs": [],
   "source": [
    "import collections\n",
    "new_text_path = r\"C:\\Users\\realj\\Desktop\\Projects\\AFAS4PI\\assets\\data\\corpus\\corpus-new.text\"\n",
    "old_text_path = r\"C:\\Users\\realj\\Desktop\\Projects\\AFAS4PI\\assets\\data\\corpus\\corpus-old.text\"\n",
    "\n",
    "\n",
    "def count_words(file_path):\n",
    "    \"\"\" 读取文件并统计词频 \"\"\"\n",
    "    word_count = collections.Counter()\n",
    "    with open(file_path, 'r', encoding='utf-8') as file:\n",
    "        for line in file:\n",
    "            words = line.split()\n",
    "            word_count.update(words)\n",
    "    return word_count\n",
    "\n",
    "\n",
    "def top_words(word_count, n=500, offset=50):\n",
    "    \"\"\" 返回最常见的n个词，排除前offset个超高频词 \"\"\"\n",
    "    # most_common返回一个列表，其中包含词和对应的频次\n",
    "    most_common = word_count.most_common(n + offset)\n",
    "    # 排除前offset个词\n",
    "    return {word for word, count in most_common[offset:]}\n",
    "\n",
    "\n",
    "# 加载并计数\n",
    "word_cnt_new = count_words(new_text_path)\n",
    "word_cnt_old = count_words(old_text_path)"
   ]
  },
  {
   "cell_type": "code",
   "execution_count": 59,
   "metadata": {},
   "outputs": [
    {
     "name": "stdout",
     "output_type": "stream",
     "text": [
      "4742\n"
     ]
    }
   ],
   "source": [
    "# 获取前3000个最常见的词\n",
    "top_500_new = top_words(word_cnt_new, 5000, 30)\n",
    "top_500_old = top_words(word_cnt_old, 5000, 30)\n",
    "\n",
    "# 计算交集\n",
    "word_top = list(top_500_new.intersection(top_500_old))\n",
    "\n",
    "print(len(word_top))"
   ]
  },
  {
   "cell_type": "code",
   "execution_count": 6,
   "metadata": {},
   "outputs": [],
   "source": [
    "# embedding_2023 和 embedding_2022 为新旧两个词嵌入模型对象\n",
    "# 具体类型为 <class 'fasttext.FastText._FastText'>，嵌入维度为 100\n",
    "# 现在将 word_top 中所有的词分别嵌入 得到 new_embeddings 和 old_embeddings\n",
    "# 这些embeddings的类型是numpy.ndarray\n",
    "# 然后使用pytorch初始化一个 shape (100, 100)的矩阵\n",
    "# 用这些embedding训练这个矩阵，使得可以使用这个矩阵将两个词嵌入模型对齐\n",
    "\n",
    "import torch\n",
    "import torch.nn as nn\n",
    "import torch.optim as optim\n",
    "import numpy as np\n",
    "\n",
    "# 假设 embedding_2023 和 embedding_2022 已经被定义\n",
    "# word_top 已经被定义\n",
    "\n",
    "# 1. 嵌入词语\n",
    "new_embeddings = np.array(\n",
    "    [embedding_2023.get_word_vector(word) for word in word_top])\n",
    "old_embeddings = np.array(\n",
    "    [embedding_2022.get_word_vector(word) for word in word_top])\n",
    "\n",
    "# 2. 初始化PyTorch张量\n",
    "alignment_matrix = torch.nn.Parameter(torch.rand(100, 100), requires_grad=True)\n",
    "\n",
    "# 3. 定义损失函数和优化器\n",
    "criterion = nn.MSELoss()\n",
    "optimizer = optim.Adam([alignment_matrix], lr=0.01)\n",
    "\n",
    "# 4. 训练过程\n",
    "\n",
    "\n",
    "def train(alignment_matrix, new_embeddings, old_embeddings, epochs=100):\n",
    "    for epoch in range(epochs):\n",
    "        optimizer.zero_grad()\n",
    "\n",
    "        # 将numpy数组转为torch张量\n",
    "        new_emb_torch = torch.tensor(new_embeddings, dtype=torch.float32)\n",
    "        old_emb_torch = torch.tensor(old_embeddings, dtype=torch.float32)\n",
    "\n",
    "        # 应用矩阵变换\n",
    "        transformed_embeddings = torch.matmul(new_emb_torch, alignment_matrix)\n",
    "\n",
    "        # 计算损失\n",
    "        loss = criterion(transformed_embeddings, old_emb_torch)\n",
    "\n",
    "        # 反向传播和优化\n",
    "        loss.backward()\n",
    "        optimizer.step()\n",
    "\n",
    "        if epoch % 100 == 0:\n",
    "            print(f\"Epoch {epoch}, Loss: {loss.item()}\")"
   ]
  },
  {
   "cell_type": "code",
   "execution_count": 7,
   "metadata": {},
   "outputs": [
    {
     "name": "stdout",
     "output_type": "stream",
     "text": [
      "Epoch 0, Loss: 7.569044589996338\n",
      "Epoch 100, Loss: 0.31566306948661804\n",
      "Epoch 200, Loss: 0.09257058054208755\n",
      "Epoch 300, Loss: 0.042752038687467575\n",
      "Epoch 400, Loss: 0.024276021867990494\n"
     ]
    }
   ],
   "source": [
    "# 开始训练\n",
    "train(alignment_matrix, new_embeddings, old_embeddings, epochs=500)"
   ]
  },
  {
   "cell_type": "code",
   "execution_count": 8,
   "metadata": {},
   "outputs": [],
   "source": [
    "torch.save(\n",
    "    alignment_matrix,\n",
    "    r\"C:\\Users\\realj\\Desktop\\Projects\\whut-final\\backend\\var\\fasttext-models\\alignment_matrix.pt\"\n",
    ")"
   ]
  },
  {
   "cell_type": "code",
   "execution_count": 9,
   "metadata": {},
   "outputs": [],
   "source": [
    "test_old = embedding_2022.get_word_vector(\"科技发展新趋势太厉害啦\")\n",
    "test_old_t = torch.tensor(test_old,  dtype=torch.float32)\n",
    "test_new_t = torch.tensor(test, dtype=torch.float32)"
   ]
  },
  {
   "cell_type": "code",
   "execution_count": 10,
   "metadata": {},
   "outputs": [],
   "source": [
    "test_new_al = torch.matmul(\n",
    "    test_new_t,\n",
    "    alignment_matrix\n",
    ")"
   ]
  },
  {
   "cell_type": "code",
   "execution_count": 11,
   "metadata": {},
   "outputs": [
    {
     "data": {
      "text/plain": [
       "tensor([1.])"
      ]
     },
     "execution_count": 11,
     "metadata": {},
     "output_type": "execute_result"
    }
   ],
   "source": [
    "torch.cosine_similarity(\n",
    "    test_new_t.unsqueeze(0),\n",
    "    test_old_t.unsqueeze(0)\n",
    ")"
   ]
  },
  {
   "cell_type": "code",
   "execution_count": 12,
   "metadata": {},
   "outputs": [
    {
     "data": {
      "text/plain": [
       "tensor([0.9779], grad_fn=<SumBackward1>)"
      ]
     },
     "execution_count": 12,
     "metadata": {},
     "output_type": "execute_result"
    }
   ],
   "source": [
    "torch.cosine_similarity(\n",
    "    test_new_al.unsqueeze(0),\n",
    "    test_old_t.unsqueeze(0)\n",
    ")"
   ]
  },
  {
   "cell_type": "code",
   "execution_count": 31,
   "metadata": {},
   "outputs": [],
   "source": [
    "def get_cos_sim_al(text: str):\n",
    "    new_repr = torch.tensor(\n",
    "        embedding_2023.get_word_vector(text),\n",
    "        dtype=torch.float32,\n",
    "    )\n",
    "    old_repr = torch.tensor(\n",
    "        embedding_2022.get_word_vector(text),\n",
    "        dtype=torch.float32,\n",
    "    )\n",
    "    new_repr_al = torch.matmul(new_repr, alignment_matrix)\n",
    "    return torch.cosine_similarity(new_repr_al, old_repr, dim=0)\n",
    "\n",
    "\n",
    "def get_cos_sim(text: str):\n",
    "    new_repr = torch.tensor(\n",
    "        embedding_2023.get_word_vector(text),\n",
    "        dtype=torch.float32,\n",
    "    )\n",
    "    old_repr = torch.tensor(\n",
    "        embedding_2022.get_word_vector(text),\n",
    "        dtype=torch.float32,\n",
    "    )\n",
    "    return torch.cosine_similarity(new_repr, old_repr, dim=0)"
   ]
  },
  {
   "cell_type": "code",
   "execution_count": 32,
   "metadata": {},
   "outputs": [
    {
     "name": "stdout",
     "output_type": "stream",
     "text": [
      "tensor(1.0000) tensor(0.9740, grad_fn=<SumBackward1>)\n"
     ]
    }
   ],
   "source": [
    "print(\n",
    "    get_cos_sim(\"选题系统\"),\n",
    "    get_cos_sim_al(\"选题系统\")\n",
    ")"
   ]
  },
  {
   "cell_type": "code",
   "execution_count": 60,
   "metadata": {},
   "outputs": [
    {
     "name": "stdout",
     "output_type": "stream",
     "text": [
      "4742 float32 (4742,)\n"
     ]
    }
   ],
   "source": [
    "sims = np.array([\n",
    "    get_cos_sim_al(word).detach().numpy()\n",
    "    for word in word_top\n",
    "])\n",
    "print(len(sims), sims.dtype, sims.shape)\n",
    "sims = 1 - sims"
   ]
  },
  {
   "cell_type": "code",
   "execution_count": 61,
   "metadata": {},
   "outputs": [
    {
     "name": "stdout",
     "output_type": "stream",
     "text": [
      "最小值: 0.0006763935\n",
      "最大值: 0.35541475\n",
      "均值: 0.028079042\n",
      "中位数: 0.017434478\n",
      "标准差: 0.032566976\n"
     ]
    }
   ],
   "source": [
    "print(\"最小值:\", np.min(sims))\n",
    "print(\"最大值:\", np.max(sims))\n",
    "print(\"均值:\", np.mean(sims))\n",
    "print(\"中位数:\", np.median(sims))\n",
    "print(\"标准差:\", np.std(sims))"
   ]
  },
  {
   "cell_type": "code",
   "execution_count": 62,
   "metadata": {},
   "outputs": [
    {
     "data": {
      "image/png": "[encoded data removed]",
      "text/plain": [
       "<Figure size 640x480 with 1 Axes>"
      ]
     },
     "metadata": {},
     "output_type": "display_data"
    }
   ],
   "source": [
    "import matplotlib.pyplot as plt\n",
    "\n",
    "# 绘制直方图\n",
    "plt.hist(sims, bins=50, alpha=0.75, color='blue')\n",
    "plt.title('Distribution of sims')\n",
    "plt.xlabel('Values')\n",
    "plt.ylabel('Frequency')\n",
    "plt.show()"
   ]
  },
  {
   "cell_type": "code",
   "execution_count": 63,
   "metadata": {},
   "outputs": [
    {
     "data": {
      "image/png": "[encoded data removed]",
      "text/plain": [
       "<Figure size 640x480 with 1 Axes>"
      ]
     },
     "metadata": {},
     "output_type": "display_data"
    }
   ],
   "source": [
    "plt.boxplot(sims, vert=False)  # vert=False 使箱形图水平显示\n",
    "plt.title('Box Plot of sims')\n",
    "plt.xlabel('Values')\n",
    "plt.show()"
   ]
  },
  {
   "cell_type": "code",
   "execution_count": 64,
   "metadata": {},
   "outputs": [
    {
     "name": "stdout",
     "output_type": "stream",
     "text": [
      "第一四分位数(Q1): 0.009386032819747925\n",
      "中位数(Q2): 0.017434478\n",
      "第三四分位数(Q3): 0.033541515469551086\n",
      "四分位距(IQR): 0.02415548264980316\n",
      "下触须界限: -0.026847191154956818\n",
      "上触须界限: 0.06977473944425583\n"
     ]
    }
   ],
   "source": [
    "import numpy as np\n",
    "\n",
    "# 假设 sims 是你的数据数组\n",
    "Q1 = np.percentile(sims, 25)\n",
    "Q2 = np.median(sims)\n",
    "Q3 = np.percentile(sims, 75)\n",
    "IQR = Q3 - Q1\n",
    "\n",
    "# 计算异常值的界限\n",
    "lower_fence = Q1 - 1.5 * IQR\n",
    "upper_fence = Q3 + 1.5 * IQR\n",
    "\n",
    "# 打印结果\n",
    "print(\"第一四分位数(Q1):\", Q1)\n",
    "print(\"中位数(Q2):\", Q2)\n",
    "print(\"第三四分位数(Q3):\", Q3)\n",
    "print(\"四分位距(IQR):\", IQR)\n",
    "print(\"下触须界限:\", lower_fence)\n",
    "print(\"上触须界限:\", upper_fence)\n"
   ]
  },
  {
   "cell_type": "code",
   "execution_count": 65,
   "metadata": {},
   "outputs": [
    {
     "data": {
      "image/png": "[encoded data removed]",
      "text/plain": [
       "<Figure size 640x480 with 1 Axes>"
      ]
     },
     "metadata": {},
     "output_type": "display_data"
    }
   ],
   "source": [
    "# 计算累积分布函数\n",
    "hist, bin_edges = np.histogram(sims, bins=100, density=True)\n",
    "cdf = np.cumsum(hist * np.diff(bin_edges))\n",
    "\n",
    "# 绘制CDF图\n",
    "plt.plot(bin_edges[1:], cdf)\n",
    "plt.title('Cumulative Distribution Function (CDF) of sims')\n",
    "plt.xlabel('Value')\n",
    "plt.ylabel('CDF')\n",
    "plt.show()"
   ]
  },
  {
   "cell_type": "code",
   "execution_count": 70,
   "metadata": {},
   "outputs": [
    {
     "name": "stdout",
     "output_type": "stream",
     "text": [
      "机器视觉 69.05470196194231\n",
      "窗 82.96083107149866\n",
      "轻 69.094963215566\n",
      "学术研究 66.27324626995996\n",
      "西汉 71.26233953445544\n",
      "施工 89.15037120984343\n",
      "白族 82.05133284702345\n",
      "供给侧 90.95506011444044\n",
      "耐 85.2782801767005\n",
      "汉魏六朝 77.4658503078934\n",
      "态势 86.41837777829174\n",
      "血 75.4731153332025\n",
      "文化传播 67.7850118910406\n",
      "二氧 88.44934199875107\n",
      "友好 93.95566898019202\n",
      "并购 72.34653572233705\n",
      "快速 74.56884261596542\n",
      "1912 85.71803316603835\n",
      "公众参与 88.62959502278142\n",
      "酸 70.08771428480709\n",
      "文明 89.86966255753174\n",
      "建 73.40863267321389\n",
      "难点 76.16873595224783\n",
      "辽宁 91.90932074558397\n",
      "线上线下 68.8364402447427\n",
      "差异化 87.09866549483081\n",
      "民族 88.00120729930384\n",
      "人工智能时代 91.04652363565029\n",
      "2016 67.24326306665016\n",
      "治理研究 87.02689363276824\n",
      "党 79.56626465872525\n",
      "绿色 98.0\n",
      "定价研究 70.41850430077824\n",
      "立体 91.43835599255708\n",
      "一款 70.48727865042245\n",
      "摄影 79.65661461669771\n",
      "前景 71.2106476410017\n",
      "武陵山片区 93.76812270094575\n",
      "磷 89.04621967296528\n",
      "团队 85.30988273932049\n",
      "规避 73.71776797706252\n",
      "译本 89.96591345375488\n",
      "测算 70.30032418564629\n",
      "乳腺癌 71.11380472021922\n",
      "料 68.53613193498506\n",
      "化解 78.8466494606774\n",
      "动作 98.0\n",
      "肠道菌群 83.74613513243304\n",
      "补 77.11267084103221\n",
      "制度改革 69.79909062909796\n"
     ]
    }
   ],
   "source": [
    "def map_scores(value):\n",
    "    Q1 = 0.009386032819747925\n",
    "    Q2 = 0.017434478\n",
    "    Q3 = 0.033541515469551086\n",
    "    upper_fence = 0.06977473944425583\n",
    "    if value >= upper_fence:\n",
    "        return 98\n",
    "    elif value == 0:\n",
    "        return 65\n",
    "    elif value == Q1:\n",
    "        return 75\n",
    "    elif value == Q2:\n",
    "        return 85\n",
    "    elif value == Q3:\n",
    "        return 90\n",
    "    else:\n",
    "        if value < Q1:\n",
    "            # 在0到Q1之间线性插值映射到65-75\n",
    "            return 65 + (75 - 65) * (value / Q1)\n",
    "        elif value < Q2:\n",
    "            # 在Q1到Q2之间线性插值映射到75-85\n",
    "            return 75 + (85 - 75) * ((value - Q1) / (Q2 - Q1))\n",
    "        elif value < Q3:\n",
    "            # 在Q2到Q3之间线性插值映射到85-90\n",
    "            return 85 + (90 - 85) * ((value - Q2) / (Q3 - Q2))\n",
    "        else:\n",
    "            # 在Q3到上触须之间线性插值映射到90-98\n",
    "            return 90 + (98 - 90) * ((value - Q3) / (upper_fence - Q3))\n",
    "\n",
    "# 假设sims是原始数组，将其映射到新的分数\n",
    "mapped_scores = np.vectorize(map_scores)(sims)\n",
    "\n",
    "for i, w in enumerate(list(word_top)[150:200]):\n",
    "    print(w, mapped_scores[i])"
   ]
  },
  {
   "cell_type": "code",
   "execution_count": null,
   "metadata": {},
   "outputs": [],
   "source": [
    "\n"
   ]
  }
 ],
 "metadata": {
  "kernelspec": {
   "display_name": "wf",
   "language": "python",
   "name": "python3"
  },
  "language_info": {
   "codemirror_mode": {
    "name": "ipython",
    "version": 3
   },
   "file_extension": ".py",
   "mimetype": "text/x-python",
   "name": "python",
   "nbconvert_exporter": "python",
   "pygments_lexer": "ipython3",
   "version": "3.10.13"
  }
 },
 "nbformat": 4,
 "nbformat_minor": 2
}
