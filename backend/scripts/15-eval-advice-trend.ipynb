{
 "cells": [
  {
   "cell_type": "code",
   "execution_count": 1,
   "metadata": {},
   "outputs": [],
   "source": [
    "from elasticsearch import Elasticsearch\n",
    "\n",
    "client = Elasticsearch(hosts=\"http://localhost:9200\")"
   ]
  },
  {
   "cell_type": "code",
   "execution_count": 2,
   "metadata": {},
   "outputs": [],
   "source": [
    "import requests\n",
    "\n",
    "# 计算指南匹配度\n",
    "\n",
    "text = \"碳达峰碳中和目标下乡村绿色低碳发展的保障机制研究\"\n",
    "embeddings: list[list[float]] = requests.post(\n",
    "    \"http://localhost:8002/embedding/text-list\",\n",
    "    json={\n",
    "        \"ls\": [text]\n",
    "    }\n",
    ").json()\n",
    "\n",
    "index = \"dca9094a-413f-4864-ad99-6d27efb3a12e\"\n",
    "embedding_field = \"标题_embedding\"  # field type: dense_vector"
   ]
  },
  {
   "cell_type": "code",
   "execution_count": 3,
   "metadata": {},
   "outputs": [
    {
     "name": "stdout",
     "output_type": "stream",
     "text": [
      "ID: B12nCY8B0IFD2THs-YQW, Score: 0.96452534, Title: 低碳农业发展模式探析\n",
      "ID: vVymCY8B0IFD2THsMFzt, Score: 0.96054536, Title: 低碳经济的分层模糊指标评价体系构建与实证研究\n",
      "ID: JVukCY8B0IFD2THsLhx6, Score: 0.95813304, Title: 我国低碳经济与碳金融研究综述\n",
      "ID: rVymCY8B0IFD2THsT3N3, Score: 0.9580598, Title: 国有林区低碳经济发展策略研究\n",
      "ID: lFylCY8B0IFD2THsnwR-, Score: 0.9577204, Title: 推动农村土地流转促进低碳农业的发展--以保护性耕作技术为例\n",
      "ID: tVulCY8B0IFD2THsIrMW, Score: 0.9577, Title: 农牧复合区低碳型特色农业循环经济模式研究——以河北省张家口市为例\n",
      "ID: A1ymCY8B0IFD2THsSnDE, Score: 0.9573946, Title: 基于粮食作物碳汇功能的农业生态补偿机制研究\n",
      "ID: 6FukCY8B0IFD2THs04Op, Score: 0.95676357, Title: 政府补贴下的三级低碳供应链减排博弈研究\n",
      "ID: 9lylCY8B0IFD2THsvRXV, Score: 0.95653826, Title: 黑龙江省国有林区低碳循环型产业体系构建研究\n",
      "ID: y1ylCY8B0IFD2THsnwN-, Score: 0.956294, Title: 煤炭开采扰动区农田低碳耕作模式优化模拟研究\n"
     ]
    }
   ],
   "source": [
    "# 能否使用es根据embedding相似度来查询？\n",
    "\n",
    "# 获取文本的嵌入向量\n",
    "embedding = embeddings[0]\n",
    "\n",
    "# 构建查询\n",
    "knn = {\n",
    "    \"field\": embedding_field,\n",
    "    \"query_vector\": embedding,\n",
    "    \"k\": 10,\n",
    "    \"num_candidates\": 100\n",
    "}\n",
    "\n",
    "# 执行查询\n",
    "response = client.search(index=index, size=10, knn=knn)\n",
    "\n",
    "# 打印查询结果\n",
    "for hit in response['hits']['hits']:\n",
    "    print(\n",
    "        f\"ID: {hit['_id']}, Score: {hit['_score']}, Title: {hit['_source'].get('标题', 'No title available')}\"\n",
    "    )"
   ]
  },
  {
   "cell_type": "code",
   "execution_count": 4,
   "metadata": {},
   "outputs": [],
   "source": [
    "test_index = \"65e94e64-e526-4298-981b-8168eb142605\"\n",
    "test_title_field = \"项目名称\"\n",
    "test_title_embedding = \"项目名称_embedding\"\n",
    "\n",
    "# 从 test_index 中随机取 1000 条 test_title_field 和 test_title_embedding\n",
    "# 存储到 pd.df 中，数据结构：name, embedding\n",
    "\n",
    "# 对于每条 test 数据，构建 knn 查询 index 的 embedding_field\n",
    "# 将查询结果的前五条 _score 的值取平均数，添加到 df 的新列 score 中\n",
    "\n",
    "# 注意，需要筛选 test_index 的 is_embedded = true"
   ]
  },
  {
   "cell_type": "code",
   "execution_count": 5,
   "metadata": {},
   "outputs": [
    {
     "data": {
      "text/html": [
       "<div>\n",
       "<style scoped>\n",
       "    .dataframe tbody tr th:only-of-type {\n",
       "        vertical-align: middle;\n",
       "    }\n",
       "\n",
       "    .dataframe tbody tr th {\n",
       "        vertical-align: top;\n",
       "    }\n",
       "\n",
       "    .dataframe thead th {\n",
       "        text-align: right;\n",
       "    }\n",
       "</style>\n",
       "<table border=\"1\" class=\"dataframe\">\n",
       "  <thead>\n",
       "    <tr style=\"text-align: right;\">\n",
       "      <th></th>\n",
       "      <th>name</th>\n",
       "      <th>embedding</th>\n",
       "    </tr>\n",
       "  </thead>\n",
       "  <tbody>\n",
       "    <tr>\n",
       "      <th>0</th>\n",
       "      <td>Bi4Ti3O12/BiOBr异质结的构建及其光催化性能研究</td>\n",
       "      <td>[0.033916741609573364, 0.03406115993857384, -0...</td>\n",
       "    </tr>\n",
       "    <tr>\n",
       "      <th>1</th>\n",
       "      <td>仿生鱿鱼—潜航探测器</td>\n",
       "      <td>[0.003303635399788618, 0.033693864941596985, -...</td>\n",
       "    </tr>\n",
       "    <tr>\n",
       "      <th>2</th>\n",
       "      <td>少儿武道体\\n适能课程设\\n计的理论构\\n架及实践</td>\n",
       "      <td>[0.028680844232439995, 0.02860274724662304, -0...</td>\n",
       "    </tr>\n",
       "    <tr>\n",
       "      <th>3</th>\n",
       "      <td>单元素二维量子材料的分子束外延生长及其物性研究</td>\n",
       "      <td>[0.02014082670211792, 0.04285347834229469, -0....</td>\n",
       "    </tr>\n",
       "    <tr>\n",
       "      <th>4</th>\n",
       "      <td>“数字人文”视阈下英语财务报告语篇推销策略对比研究</td>\n",
       "      <td>[0.0012222902150824666, -0.01281632762402296, ...</td>\n",
       "    </tr>\n",
       "    <tr>\n",
       "      <th>...</th>\n",
       "      <td>...</td>\n",
       "      <td>...</td>\n",
       "    </tr>\n",
       "    <tr>\n",
       "      <th>2995</th>\n",
       "      <td>数学建模理论及算法研究</td>\n",
       "      <td>[0.017354046925902367, 0.024953609332442284, -...</td>\n",
       "    </tr>\n",
       "    <tr>\n",
       "      <th>2996</th>\n",
       "      <td>草莓灰霉病生物防治及产品研发</td>\n",
       "      <td>[-0.00835449155420065, 0.024927550926804543, -...</td>\n",
       "    </tr>\n",
       "    <tr>\n",
       "      <th>2997</th>\n",
       "      <td>智能访客管理系统设计</td>\n",
       "      <td>[0.024877356365323067, 0.028930095955729485, -...</td>\n",
       "    </tr>\n",
       "    <tr>\n",
       "      <th>2998</th>\n",
       "      <td>改  I’m hEAR情绪倾诉平台</td>\n",
       "      <td>[0.01384249422699213, 0.020962029695510864, -0...</td>\n",
       "    </tr>\n",
       "    <tr>\n",
       "      <th>2999</th>\n",
       "      <td>基于植物碳源异养-硫自养联合反硝化的生物滞留系统脱氮效能研究</td>\n",
       "      <td>[0.012371009215712547, 0.021876825019717216, -...</td>\n",
       "    </tr>\n",
       "  </tbody>\n",
       "</table>\n",
       "<p>3000 rows × 2 columns</p>\n",
       "</div>"
      ],
      "text/plain": [
       "                                name  \\\n",
       "0     Bi4Ti3O12/BiOBr异质结的构建及其光催化性能研究   \n",
       "1                         仿生鱿鱼—潜航探测器   \n",
       "2          少儿武道体\\n适能课程设\\n计的理论构\\n架及实践   \n",
       "3            单元素二维量子材料的分子束外延生长及其物性研究   \n",
       "4          “数字人文”视阈下英语财务报告语篇推销策略对比研究   \n",
       "...                              ...   \n",
       "2995                     数学建模理论及算法研究   \n",
       "2996                  草莓灰霉病生物防治及产品研发   \n",
       "2997                      智能访客管理系统设计   \n",
       "2998               改  I’m hEAR情绪倾诉平台   \n",
       "2999  基于植物碳源异养-硫自养联合反硝化的生物滞留系统脱氮效能研究   \n",
       "\n",
       "                                              embedding  \n",
       "0     [0.033916741609573364, 0.03406115993857384, -0...  \n",
       "1     [0.003303635399788618, 0.033693864941596985, -...  \n",
       "2     [0.028680844232439995, 0.02860274724662304, -0...  \n",
       "3     [0.02014082670211792, 0.04285347834229469, -0....  \n",
       "4     [0.0012222902150824666, -0.01281632762402296, ...  \n",
       "...                                                 ...  \n",
       "2995  [0.017354046925902367, 0.024953609332442284, -...  \n",
       "2996  [-0.00835449155420065, 0.024927550926804543, -...  \n",
       "2997  [0.024877356365323067, 0.028930095955729485, -...  \n",
       "2998  [0.01384249422699213, 0.020962029695510864, -0...  \n",
       "2999  [0.012371009215712547, 0.021876825019717216, -...  \n",
       "\n",
       "[3000 rows x 2 columns]"
      ]
     },
     "execution_count": 5,
     "metadata": {},
     "output_type": "execute_result"
    }
   ],
   "source": [
    "\n",
    "import pandas as pd\n",
    "\n",
    "query = {\n",
    "    \"size\": 3000,\n",
    "    \"query\": {\n",
    "        \"function_score\": {\n",
    "            \"query\": {\n",
    "                \"bool\": {\n",
    "                    \"must\": [\n",
    "                        # 仅包括 is_embedded 为 true 的记录\n",
    "                        {\"term\": {\"is_embedded\": True}}\n",
    "                    ]\n",
    "                }\n",
    "            },\n",
    "            \"random_score\": {}  # 生成随机分数以实现随机排序\n",
    "        }\n",
    "    },\n",
    "    \"_source\": [test_title_field, test_title_embedding]\n",
    "}\n",
    "\n",
    "# 执行查询\n",
    "response = client.search(index=test_index, body=query)\n",
    "\n",
    "# 将结果存储到Pandas DataFrame\n",
    "data = pd.DataFrame([{\n",
    "    \"name\": hit[\"_source\"][test_title_field],\n",
    "    \"embedding\": hit[\"_source\"][test_title_embedding]\n",
    "} for hit in response[\"hits\"][\"hits\"]])\n",
    "\n",
    "data"
   ]
  },
  {
   "cell_type": "code",
   "execution_count": 7,
   "metadata": {},
   "outputs": [],
   "source": [
    "# 初始化得分列\n",
    "data['score'] = 0.0\n",
    "\n",
    "for i, row in data.iterrows():\n",
    "    # 构建k-NN查询\n",
    "    knn_query = {\n",
    "        \"field\": embedding_field,\n",
    "        \"query_vector\": row.embedding,\n",
    "        \"k\": 30,\n",
    "        \"num_candidates\": 100\n",
    "    }\n",
    "\n",
    "    # 执行k-NN查询\n",
    "    knn_response = client.search(index=index, size=5, knn=knn_query)\n",
    "\n",
    "    # 计算前五个结果的_score平均值\n",
    "    scores = [hit['_score'] for hit in knn_response['hits']['hits']]\n",
    "    if scores:\n",
    "        average_score = sum(scores) / len(scores)\n",
    "    else:\n",
    "        average_score = 0  # 如果没有结果，分数为0\n",
    "\n",
    "    # 更新得分\n",
    "    data.at[i, 'score'] = average_score"
   ]
  },
  {
   "cell_type": "code",
   "execution_count": 8,
   "metadata": {},
   "outputs": [
    {
     "data": {
      "text/html": [
       "<div>\n",
       "<style scoped>\n",
       "    .dataframe tbody tr th:only-of-type {\n",
       "        vertical-align: middle;\n",
       "    }\n",
       "\n",
       "    .dataframe tbody tr th {\n",
       "        vertical-align: top;\n",
       "    }\n",
       "\n",
       "    .dataframe thead th {\n",
       "        text-align: right;\n",
       "    }\n",
       "</style>\n",
       "<table border=\"1\" class=\"dataframe\">\n",
       "  <thead>\n",
       "    <tr style=\"text-align: right;\">\n",
       "      <th></th>\n",
       "      <th>name</th>\n",
       "      <th>embedding</th>\n",
       "      <th>score</th>\n",
       "    </tr>\n",
       "  </thead>\n",
       "  <tbody>\n",
       "    <tr>\n",
       "      <th>0</th>\n",
       "      <td>Bi4Ti3O12/BiOBr异质结的构建及其光催化性能研究</td>\n",
       "      <td>[0.033916741609573364, 0.03406115993857384, -0...</td>\n",
       "      <td>0.968719</td>\n",
       "    </tr>\n",
       "    <tr>\n",
       "      <th>1</th>\n",
       "      <td>仿生鱿鱼—潜航探测器</td>\n",
       "      <td>[0.003303635399788618, 0.033693864941596985, -...</td>\n",
       "      <td>0.965792</td>\n",
       "    </tr>\n",
       "    <tr>\n",
       "      <th>2</th>\n",
       "      <td>少儿武道体\\n适能课程设\\n计的理论构\\n架及实践</td>\n",
       "      <td>[0.028680844232439995, 0.02860274724662304, -0...</td>\n",
       "      <td>0.960958</td>\n",
       "    </tr>\n",
       "    <tr>\n",
       "      <th>3</th>\n",
       "      <td>单元素二维量子材料的分子束外延生长及其物性研究</td>\n",
       "      <td>[0.02014082670211792, 0.04285347834229469, -0....</td>\n",
       "      <td>0.964732</td>\n",
       "    </tr>\n",
       "    <tr>\n",
       "      <th>4</th>\n",
       "      <td>“数字人文”视阈下英语财务报告语篇推销策略对比研究</td>\n",
       "      <td>[0.0012222902150824666, -0.01281632762402296, ...</td>\n",
       "      <td>0.941411</td>\n",
       "    </tr>\n",
       "    <tr>\n",
       "      <th>...</th>\n",
       "      <td>...</td>\n",
       "      <td>...</td>\n",
       "      <td>...</td>\n",
       "    </tr>\n",
       "    <tr>\n",
       "      <th>2995</th>\n",
       "      <td>数学建模理论及算法研究</td>\n",
       "      <td>[0.017354046925902367, 0.024953609332442284, -...</td>\n",
       "      <td>0.967656</td>\n",
       "    </tr>\n",
       "    <tr>\n",
       "      <th>2996</th>\n",
       "      <td>草莓灰霉病生物防治及产品研发</td>\n",
       "      <td>[-0.00835449155420065, 0.024927550926804543, -...</td>\n",
       "      <td>0.969628</td>\n",
       "    </tr>\n",
       "    <tr>\n",
       "      <th>2997</th>\n",
       "      <td>智能访客管理系统设计</td>\n",
       "      <td>[0.024877356365323067, 0.028930095955729485, -...</td>\n",
       "      <td>0.958178</td>\n",
       "    </tr>\n",
       "    <tr>\n",
       "      <th>2998</th>\n",
       "      <td>改  I’m hEAR情绪倾诉平台</td>\n",
       "      <td>[0.01384249422699213, 0.020962029695510864, -0...</td>\n",
       "      <td>0.947152</td>\n",
       "    </tr>\n",
       "    <tr>\n",
       "      <th>2999</th>\n",
       "      <td>基于植物碳源异养-硫自养联合反硝化的生物滞留系统脱氮效能研究</td>\n",
       "      <td>[0.012371009215712547, 0.021876825019717216, -...</td>\n",
       "      <td>0.965717</td>\n",
       "    </tr>\n",
       "  </tbody>\n",
       "</table>\n",
       "<p>3000 rows × 3 columns</p>\n",
       "</div>"
      ],
      "text/plain": [
       "                                name  \\\n",
       "0     Bi4Ti3O12/BiOBr异质结的构建及其光催化性能研究   \n",
       "1                         仿生鱿鱼—潜航探测器   \n",
       "2          少儿武道体\\n适能课程设\\n计的理论构\\n架及实践   \n",
       "3            单元素二维量子材料的分子束外延生长及其物性研究   \n",
       "4          “数字人文”视阈下英语财务报告语篇推销策略对比研究   \n",
       "...                              ...   \n",
       "2995                     数学建模理论及算法研究   \n",
       "2996                  草莓灰霉病生物防治及产品研发   \n",
       "2997                      智能访客管理系统设计   \n",
       "2998               改  I’m hEAR情绪倾诉平台   \n",
       "2999  基于植物碳源异养-硫自养联合反硝化的生物滞留系统脱氮效能研究   \n",
       "\n",
       "                                              embedding     score  \n",
       "0     [0.033916741609573364, 0.03406115993857384, -0...  0.968719  \n",
       "1     [0.003303635399788618, 0.033693864941596985, -...  0.965792  \n",
       "2     [0.028680844232439995, 0.02860274724662304, -0...  0.960958  \n",
       "3     [0.02014082670211792, 0.04285347834229469, -0....  0.964732  \n",
       "4     [0.0012222902150824666, -0.01281632762402296, ...  0.941411  \n",
       "...                                                 ...       ...  \n",
       "2995  [0.017354046925902367, 0.024953609332442284, -...  0.967656  \n",
       "2996  [-0.00835449155420065, 0.024927550926804543, -...  0.969628  \n",
       "2997  [0.024877356365323067, 0.028930095955729485, -...  0.958178  \n",
       "2998  [0.01384249422699213, 0.020962029695510864, -0...  0.947152  \n",
       "2999  [0.012371009215712547, 0.021876825019717216, -...  0.965717  \n",
       "\n",
       "[3000 rows x 3 columns]"
      ]
     },
     "execution_count": 8,
     "metadata": {},
     "output_type": "execute_result"
    }
   ],
   "source": [
    "# https://www.elastic.co/cn/what-is/knn\n",
    "# https://www.elastic.co/guide/en/elasticsearch/reference/master/knn-search.html\n",
    "# https://www.elastic.co/guide/en/elasticsearch/reference/master/dense-vector.html#dense-vector-similarity\n",
    "\n",
    "data"
   ]
  },
  {
   "cell_type": "code",
   "execution_count": 9,
   "metadata": {},
   "outputs": [
    {
     "data": {
      "text/plain": [
       "count    3000.000000\n",
       "mean       96.078344\n",
       "std         0.713756\n",
       "min        91.741609\n",
       "25%        95.614188\n",
       "50%        96.122191\n",
       "75%        96.574894\n",
       "max        98.235722\n",
       "Name: score, dtype: float64"
      ]
     },
     "execution_count": 9,
     "metadata": {},
     "output_type": "execute_result"
    }
   ],
   "source": [
    "(data[\"score\"]*100).describe()"
   ]
  },
  {
   "cell_type": "code",
   "execution_count": 10,
   "metadata": {},
   "outputs": [
    {
     "data": {
      "text/plain": [
       "<Axes: xlabel='score_scaled', ylabel='Count'>"
      ]
     },
     "execution_count": 10,
     "metadata": {},
     "output_type": "execute_result"
    },
    {
     "data": {
      "image/png": "[encoded data removed]",
      "text/plain": [
       "<Figure size 640x480 with 1 Axes>"
      ]
     },
     "metadata": {},
     "output_type": "display_data"
    }
   ],
   "source": [
    "import seaborn as sns\n",
    "\n",
    "\n",
    "def scale_value(v, A, B, C, D):\n",
    "    return C + ((D - C) * (v - A) / (B - A))\n",
    "\n",
    "\n",
    "# 假设data是你的DataFrame，已经有'score'列\n",
    "# 首先，将score乘以100\n",
    "data['score_scaled'] = data['score'] * 100\n",
    "\n",
    "# 然后，应用缩放函数仅对95到98范围内的数据\n",
    "data['score_scaled'] = data['score_scaled'].apply(\n",
    "    lambda x: scale_value(x, 90, 98, 75, 98) if 90 <= x <= 98 else x\n",
    ")\n",
    "\n",
    "# 这样，所有在95到98范围内\n",
    "\n",
    "sns.histplot(data=data, x=\"score_scaled\", kde=True, element=\"step\")"
   ]
  },
  {
   "cell_type": "code",
   "execution_count": 11,
   "metadata": {},
   "outputs": [
    {
     "data": {
      "text/plain": [
       "<Axes: xlabel='score', ylabel='Count'>"
      ]
     },
     "execution_count": 11,
     "metadata": {},
     "output_type": "execute_result"
    },
    {
     "data": {
      "image/png": "[encoded data removed]",
      "text/plain": [
       "<Figure size 640x480 with 1 Axes>"
      ]
     },
     "metadata": {},
     "output_type": "display_data"
    }
   ],
   "source": [
    "sns.histplot(data=data, x=\"score\", kde=True, element=\"step\")"
   ]
  },
  {
   "cell_type": "code",
   "execution_count": 12,
   "metadata": {},
   "outputs": [
    {
     "data": {
      "text/plain": [
       "count    3000.000000\n",
       "mean       92.474826\n",
       "std         2.050876\n",
       "min        80.007126\n",
       "25%        91.140791\n",
       "50%        92.601298\n",
       "75%        93.902820\n",
       "max        98.235722\n",
       "Name: score_scaled, dtype: float64"
      ]
     },
     "execution_count": 12,
     "metadata": {},
     "output_type": "execute_result"
    }
   ],
   "source": [
    "data['score_scaled'].describe()"
   ]
  },
  {
   "cell_type": "code",
   "execution_count": 13,
   "metadata": {},
   "outputs": [
    {
     "data": {
      "text/html": [
       "<div>\n",
       "<style scoped>\n",
       "    .dataframe tbody tr th:only-of-type {\n",
       "        vertical-align: middle;\n",
       "    }\n",
       "\n",
       "    .dataframe tbody tr th {\n",
       "        vertical-align: top;\n",
       "    }\n",
       "\n",
       "    .dataframe thead th {\n",
       "        text-align: right;\n",
       "    }\n",
       "</style>\n",
       "<table border=\"1\" class=\"dataframe\">\n",
       "  <thead>\n",
       "    <tr style=\"text-align: right;\">\n",
       "      <th></th>\n",
       "      <th>name</th>\n",
       "      <th>embedding</th>\n",
       "    </tr>\n",
       "  </thead>\n",
       "  <tbody>\n",
       "    <tr>\n",
       "      <th>0</th>\n",
       "      <td>国外药师参与疫苗管理的能力要求及培训体系</td>\n",
       "      <td>[0.028847768902778625, 0.004568031057715416, -...</td>\n",
       "    </tr>\n",
       "    <tr>\n",
       "      <th>1</th>\n",
       "      <td>习近平的互联网治理思维</td>\n",
       "      <td>[-0.0022279280237853527, 0.01764770597219467, ...</td>\n",
       "    </tr>\n",
       "    <tr>\n",
       "      <th>2</th>\n",
       "      <td>产业结构演进对东北三省人口流动的影响及对策分析</td>\n",
       "      <td>[0.008418293669819832, 0.02207220159471035, -0...</td>\n",
       "    </tr>\n",
       "    <tr>\n",
       "      <th>3</th>\n",
       "      <td>基于工业互联网平台的工业机器人系统安全问题研究</td>\n",
       "      <td>[-0.0013341492740437388, 0.03594762459397316, ...</td>\n",
       "    </tr>\n",
       "    <tr>\n",
       "      <th>4</th>\n",
       "      <td>国企混合所有制改革争议综述</td>\n",
       "      <td>[0.019967006519436836, 0.033613622188568115, -...</td>\n",
       "    </tr>\n",
       "    <tr>\n",
       "      <th>...</th>\n",
       "      <td>...</td>\n",
       "      <td>...</td>\n",
       "    </tr>\n",
       "    <tr>\n",
       "      <th>995</th>\n",
       "      <td>中国传统和谐文化的近代诠释——孙中山关于社会主义和大同社会的思想及其现实意义</td>\n",
       "      <td>[0.02008374221622944, 0.026328817009925842, -0...</td>\n",
       "    </tr>\n",
       "    <tr>\n",
       "      <th>996</th>\n",
       "      <td>脱贫攻坚与全面建成小康社会的成就与经验研究</td>\n",
       "      <td>[0.025628317147493362, 0.026998458430171013, -...</td>\n",
       "    </tr>\n",
       "    <tr>\n",
       "      <th>997</th>\n",
       "      <td>论习近平新时代中国特色社会主义思想的社会革命向度</td>\n",
       "      <td>[0.018026547506451607, 0.01776813715696335, -0...</td>\n",
       "    </tr>\n",
       "    <tr>\n",
       "      <th>998</th>\n",
       "      <td>绿色发展方式与人民对美好生活的向往</td>\n",
       "      <td>[0.0044745090417563915, 0.0312746986746788, -0...</td>\n",
       "    </tr>\n",
       "    <tr>\n",
       "      <th>999</th>\n",
       "      <td>局部通用加权协同表示人脸识别</td>\n",
       "      <td>[0.007933727465569973, 0.04792607203125954, -0...</td>\n",
       "    </tr>\n",
       "  </tbody>\n",
       "</table>\n",
       "<p>1000 rows × 2 columns</p>\n",
       "</div>"
      ],
      "text/plain": [
       "                                       name  \\\n",
       "0                      国外药师参与疫苗管理的能力要求及培训体系   \n",
       "1                               习近平的互联网治理思维   \n",
       "2                   产业结构演进对东北三省人口流动的影响及对策分析   \n",
       "3                   基于工业互联网平台的工业机器人系统安全问题研究   \n",
       "4                             国企混合所有制改革争议综述   \n",
       "..                                      ...   \n",
       "995  中国传统和谐文化的近代诠释——孙中山关于社会主义和大同社会的思想及其现实意义   \n",
       "996                   脱贫攻坚与全面建成小康社会的成就与经验研究   \n",
       "997                论习近平新时代中国特色社会主义思想的社会革命向度   \n",
       "998                       绿色发展方式与人民对美好生活的向往   \n",
       "999                          局部通用加权协同表示人脸识别   \n",
       "\n",
       "                                             embedding  \n",
       "0    [0.028847768902778625, 0.004568031057715416, -...  \n",
       "1    [-0.0022279280237853527, 0.01764770597219467, ...  \n",
       "2    [0.008418293669819832, 0.02207220159471035, -0...  \n",
       "3    [-0.0013341492740437388, 0.03594762459397316, ...  \n",
       "4    [0.019967006519436836, 0.033613622188568115, -...  \n",
       "..                                                 ...  \n",
       "995  [0.02008374221622944, 0.026328817009925842, -0...  \n",
       "996  [0.025628317147493362, 0.026998458430171013, -...  \n",
       "997  [0.018026547506451607, 0.01776813715696335, -0...  \n",
       "998  [0.0044745090417563915, 0.0312746986746788, -0...  \n",
       "999  [0.007933727465569973, 0.04792607203125954, -0...  \n",
       "\n",
       "[1000 rows x 2 columns]"
      ]
     },
     "execution_count": 13,
     "metadata": {},
     "output_type": "execute_result"
    }
   ],
   "source": [
    "\n",
    "import pandas as pd\n",
    "\n",
    "query = {\n",
    "    \"size\": 1000,\n",
    "    \"query\": {\n",
    "        \"function_score\": {\n",
    "            \"query\": {\n",
    "                \"bool\": {\n",
    "                    \"must\": [\n",
    "                        # 仅包括 is_embedded 为 true 的记录\n",
    "                        {\"term\": {\"is_embedded\": True}}\n",
    "                    ]\n",
    "                }\n",
    "            },\n",
    "            \"random_score\": {}  # 生成随机分数以实现随机排序\n",
    "        }\n",
    "    },\n",
    "    \"_source\": [\"标题\", \"标题_embedding\"]\n",
    "}\n",
    "\n",
    "# 执行查询\n",
    "response = client.search(\n",
    "    index=\"05ce8f39-4201-48f1-a87a-616c7216470b\", body=query)\n",
    "\n",
    "# 将结果存储到Pandas DataFrame\n",
    "data_t = pd.DataFrame([{\n",
    "    \"name\": hit[\"_source\"][\"标题\"],\n",
    "    \"embedding\": hit[\"_source\"][\"标题_embedding\"]\n",
    "} for hit in response[\"hits\"][\"hits\"]])\n",
    "\n",
    "data_t"
   ]
  },
  {
   "cell_type": "code",
   "execution_count": 14,
   "metadata": {},
   "outputs": [
    {
     "data": {
      "text/plain": [
       "count    1000.000000\n",
       "mean        1.888667\n",
       "std         4.931140\n",
       "min       -12.333333\n",
       "25%        -1.333333\n",
       "50%         1.000000\n",
       "75%         4.666667\n",
       "max        21.666667\n",
       "Name: s93, dtype: float64"
      ]
     },
     "execution_count": 14,
     "metadata": {},
     "output_type": "execute_result"
    }
   ],
   "source": [
    "\n",
    "def _get_es_knn_scores(text_embedding: list[float], year: int) -> list[float]:\n",
    "    # 国家级大学生创新创业训练项目\n",
    "    index = \"65e94e64-e526-4298-981b-8168eb142605\"\n",
    "    knn_query = {\n",
    "        \"knn\": {\n",
    "            \"field\": \"项目名称_embedding\",\n",
    "            \"query_vector\": text_embedding,  # 确保 text_embedding 已经正确生成\n",
    "            # \"k\": 30,\n",
    "            \"num_candidates\": 100\n",
    "        }\n",
    "    }\n",
    "\n",
    "    filters = {\n",
    "        \"range\": {\n",
    "            \"立项时间\": {\n",
    "                \"gte\": f\"{year}-01-01\",\n",
    "                \"lte\": f\"{year}-12-31\",\n",
    "            }\n",
    "        }\n",
    "    }\n",
    "\n",
    "    query = {\n",
    "        \"bool\": {\n",
    "            \"must\": [\n",
    "                knn_query\n",
    "            ],\n",
    "            \"filter\": [\n",
    "                filters\n",
    "            ]\n",
    "        }\n",
    "    }\n",
    "\n",
    "    knn_response = client.search(\n",
    "        index=index,\n",
    "        size=50,\n",
    "        query=query\n",
    "    )\n",
    "\n",
    "    return [hit['_score'] for hit in knn_response['hits']['hits']]\n",
    "\n",
    "\n",
    "def _get_over_threshold_cnt(scores: list[float], threshold: float):\n",
    "    return sum(1 for score in scores if score > threshold)\n",
    "\n",
    "\n",
    "def _get_deltas_avg(series: list[float]):\n",
    "    this = series[1:]\n",
    "    last = series[:-1]\n",
    "    deltas = [vt-vl for vt, vl in zip(this, last)]\n",
    "\n",
    "    return (sum(deltas) + deltas[-1]) / (len(deltas)+1)\n",
    "\n",
    "\n",
    "def get_text_trend_for_test(embedding: list[float], th: float):\n",
    "    knn_s_scores = [\n",
    "        _get_es_knn_scores(embedding, year)\n",
    "        for year in (2021, 2022, 2023)\n",
    "    ]\n",
    "    cnt_s = [\n",
    "        _get_over_threshold_cnt(knn_scores, th)\n",
    "        for knn_scores in knn_s_scores\n",
    "    ]\n",
    "    return _get_deltas_avg(cnt_s)\n",
    "\n",
    "\n",
    "data_t[\"s93\"] = data_t[\"embedding\"].apply(\n",
    "    lambda x: get_text_trend_for_test(x, 0.93)\n",
    ")\n",
    "data_t[\"s93\"].describe()"
   ]
  },
  {
   "cell_type": "code",
   "execution_count": 15,
   "metadata": {},
   "outputs": [
    {
     "data": {
      "text/plain": [
       "count    1000.000000\n",
       "mean        0.371333\n",
       "std         2.138228\n",
       "min       -11.333333\n",
       "25%        -0.333333\n",
       "50%         0.000000\n",
       "75%         0.666667\n",
       "max        19.666667\n",
       "Name: s96, dtype: float64"
      ]
     },
     "execution_count": 15,
     "metadata": {},
     "output_type": "execute_result"
    }
   ],
   "source": [
    "data_t[\"s96\"] = data_t[\"embedding\"].apply(\n",
    "    lambda x: get_text_trend_for_test(x, 0.96)\n",
    ")\n",
    "data_t[\"s96\"].describe()"
   ]
  },
  {
   "cell_type": "code",
   "execution_count": 16,
   "metadata": {},
   "outputs": [
    {
     "data": {
      "text/plain": [
       "count    1000.000000\n",
       "mean        1.206000\n",
       "std         4.091057\n",
       "min       -12.333333\n",
       "25%        -1.000000\n",
       "50%         0.333333\n",
       "75%         3.000000\n",
       "max        21.333333\n",
       "Name: s95, dtype: float64"
      ]
     },
     "execution_count": 16,
     "metadata": {},
     "output_type": "execute_result"
    }
   ],
   "source": [
    "data_t[\"s95\"] = data_t[\"embedding\"].apply(\n",
    "    lambda x: get_text_trend_for_test(x, 0.95)\n",
    ")\n",
    "data_t[\"s95\"].describe()"
   ]
  },
  {
   "cell_type": "code",
   "execution_count": 17,
   "metadata": {},
   "outputs": [
    {
     "data": {
      "text/plain": [
       "count    1000.000000\n",
       "mean        1.820667\n",
       "std         4.850616\n",
       "min       -12.333333\n",
       "25%        -1.333333\n",
       "50%         1.000000\n",
       "75%         4.333333\n",
       "max        21.666667\n",
       "Name: s94, dtype: float64"
      ]
     },
     "execution_count": 17,
     "metadata": {},
     "output_type": "execute_result"
    }
   ],
   "source": [
    "data_t[\"s94\"] = data_t[\"embedding\"].apply(\n",
    "    lambda x: get_text_trend_for_test(x, 0.94)\n",
    ")\n",
    "data_t[\"s94\"].describe()"
   ]
  },
  {
   "cell_type": "code",
   "execution_count": 19,
   "metadata": {},
   "outputs": [
    {
     "data": {
      "image/png": "[encoded data removed]",
      "text/plain": [
       "<Figure size 900x900 with 4 Axes>"
      ]
     },
     "metadata": {},
     "output_type": "display_data"
    }
   ],
   "source": [
    "import seaborn as sns\n",
    "import matplotlib.pyplot as plt\n",
    "\n",
    "# 创建一个图像，包含四个子图（每个ac prompt一个子图）\n",
    "fig, axes = plt.subplots(2, 2, figsize=(9, 9))  # 2x2布局\n",
    "fig.suptitle('Trend Count Distribution')\n",
    "\n",
    "# 应用prompt的名称列表\n",
    "application_prompts = [\"s93\", \"s94\", \"s95\", \"s96\"]\n",
    "\n",
    "# 遍历所有学术prompts并绘制每个prompt的分布\n",
    "for i, prompt_name in enumerate(application_prompts):\n",
    "    ax = axes[i // 2, i % 2]  # 定位到具体的子图\n",
    "    sns.histplot(data=data_t, x=prompt_name, kde=True, element=\"step\", ax=ax)\n",
    "    ax.set_title(prompt_name)\n",
    "    ax.set_xlabel('Count')\n",
    "    ax.set_ylabel('Frequency')\n",
    "\n",
    "plt.tight_layout(rect=[0, 0, 1, 0.95])  # 调整整体布局，避免标题被覆盖\n",
    "plt.show()\n"
   ]
  },
  {
   "cell_type": "code",
   "execution_count": null,
   "metadata": {},
   "outputs": [],
   "source": []
  }
 ],
 "metadata": {
  "kernelspec": {
   "display_name": "wf",
   "language": "python",
   "name": "python3"
  },
  "language_info": {
   "codemirror_mode": {
    "name": "ipython",
    "version": 3
   },
   "file_extension": ".py",
   "mimetype": "text/x-python",
   "name": "python",
   "nbconvert_exporter": "python",
   "pygments_lexer": "ipython3",
   "version": "3.10.13"
  }
 },
 "nbformat": 4,
 "nbformat_minor": 2
}
