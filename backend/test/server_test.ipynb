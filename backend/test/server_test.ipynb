{
 "cells": [
  {
   "cell_type": "code",
   "execution_count": 55,
   "metadata": {},
   "outputs": [],
   "source": [
    "import requests\n",
    "\n",
    "HOST = \"http://127.0.0.1:8000/api/\""
   ]
  },
  {
   "cell_type": "code",
   "execution_count": 56,
   "metadata": {},
   "outputs": [
    {
     "name": "stdout",
     "output_type": "stream",
     "text": [
      "{\"message\":\"Testing message: 'Hello World!'\"}\n"
     ]
    }
   ],
   "source": [
    "# 连通性\n",
    "\n",
    "res = requests.get(HOST)\n",
    "print(res.text)"
   ]
  },
  {
   "cell_type": "markdown",
   "metadata": {},
   "source": [
    "## 账号管理"
   ]
  },
  {
   "cell_type": "code",
   "execution_count": 57,
   "metadata": {},
   "outputs": [
    {
     "name": "stdout",
     "output_type": "stream",
     "text": [
      "{\"message\":\"register success!\"}\n",
      "[]\n"
     ]
    }
   ],
   "source": [
    "# 正常注册\n",
    "\n",
    "res = requests.post(\n",
    "    url=HOST+\"user/register\",\n",
    "    json={\n",
    "        \"id\": \"13657290357\",\n",
    "        \"name\": \"Test00\",\n",
    "        \"privilege\": 0,\n",
    "        \"password_hash\": \"0xffffff\",\n",
    "        \"org_name\": \"whut\"\n",
    "    }\n",
    ")\n",
    "print(res.text)\n",
    "print([f\"{x.name}:{x.value}\" for x in res.cookies])"
   ]
  },
  {
   "cell_type": "code",
   "execution_count": 58,
   "metadata": {},
   "outputs": [
    {
     "name": "stdout",
     "output_type": "stream",
     "text": [
      "{\"message\":\"login failed!\"}\n",
      "[]\n"
     ]
    }
   ],
   "source": [
    "# 账号不存在\n",
    "\n",
    "res = requests.post(\n",
    "    url=HOST+\"user/login\",\n",
    "    json={\n",
    "        \"id\": \"10086\",\n",
    "        \"password_hash\": \"0xffffff\",\n",
    "    }\n",
    ")\n",
    "print(res.text)\n",
    "print([f\"{x.name}:{x.value}\" for x in res.cookies])"
   ]
  },
  {
   "cell_type": "code",
   "execution_count": 59,
   "metadata": {},
   "outputs": [
    {
     "name": "stdout",
     "output_type": "stream",
     "text": [
      "{\"message\":\"login failed!\"}\n",
      "[]\n"
     ]
    }
   ],
   "source": [
    "# 密码错误\n",
    "\n",
    "res = requests.post(\n",
    "    url=HOST+\"user/login\",\n",
    "    json={\n",
    "        \"id\": \"13657290358\",\n",
    "        \"password_hash\": \"0xffff00\",\n",
    "    }\n",
    ")\n",
    "print(res.text)\n",
    "print([f\"{x.name}:{x.value}\" for x in res.cookies])"
   ]
  },
  {
   "cell_type": "code",
   "execution_count": 60,
   "metadata": {},
   "outputs": [
    {
     "name": "stdout",
     "output_type": "stream",
     "text": [
      "Internal Server Error\n",
      "[]\n"
     ]
    }
   ],
   "source": [
    "# 正常登录\n",
    "\n",
    "res = requests.post(\n",
    "    url=HOST+\"user/login\",\n",
    "    json={\n",
    "        \"id\": \"13657290357\",\n",
    "        \"password_hash\": \"0xffffff\",\n",
    "    }\n",
    ")\n",
    "print(res.text)\n",
    "print([f\"{x.name}:{x.value}\" for x in res.cookies])"
   ]
  },
  {
   "cell_type": "code",
   "execution_count": 61,
   "metadata": {},
   "outputs": [
    {
     "name": "stdout",
     "output_type": "stream",
     "text": [
      "{\"message\":\"logged out!\"}\n",
      "[]\n"
     ]
    }
   ],
   "source": [
    "# 登出\n",
    "\n",
    "res = requests.get(\n",
    "    url=HOST+\"user/logout\",\n",
    ")\n",
    "print(res.text)\n",
    "print([f\"{x.name}:{x.value}\" for x in res.cookies])"
   ]
  },
  {
   "cell_type": "markdown",
   "metadata": {},
   "source": [
    "## 数据库管理"
   ]
  },
  {
   "cell_type": "code",
   "execution_count": 62,
   "metadata": {},
   "outputs": [
    {
     "name": "stdout",
     "output_type": "stream",
     "text": [
      "Internal Server Error\n",
      "[]\n"
     ]
    }
   ],
   "source": [
    "# 登录获取cookies\n",
    "\n",
    "res = requests.post(\n",
    "    url=HOST+\"user/login\",\n",
    "    json={\n",
    "        \"id\": \"13657290357\",\n",
    "        \"password_hash\": \"0xffffff\",\n",
    "    }\n",
    ")\n",
    "cookies = res.cookies\n",
    "print(res.text)\n",
    "print([f\"{x.name}:{x.value}\" for x in res.cookies])"
   ]
  },
  {
   "cell_type": "code",
   "execution_count": 63,
   "metadata": {},
   "outputs": [
    {
     "name": "stdout",
     "output_type": "stream",
     "text": [
      "{\"message\":\"not login\"}\n",
      "[]\n"
     ]
    }
   ],
   "source": [
    "# 正常创建数据库\n",
    "\n",
    "res = requests.post(\n",
    "    url=HOST+\"db/create\",\n",
    "    json={\n",
    "        \"name\": \"test_db_00\",\n",
    "        \"org_name\": \"public\",\n",
    "        \"title_field\": \"项目名称\",\n",
    "        \"time_field\": \"立项时间\",\n",
    "        \"cate_fields\": [\"学科\", \"分类\", \"类型\"],\n",
    "        \"id_fields\": ['承办者', '指导老师'],\n",
    "        \"text_fields\": ['项目摘要'],\n",
    "    },\n",
    "    cookies=cookies,\n",
    ")\n",
    "print(res.text)\n",
    "print([f\"{x.name}:{x.value}\" for x in res.cookies])"
   ]
  },
  {
   "cell_type": "code",
   "execution_count": 64,
   "metadata": {},
   "outputs": [
    {
     "name": "stdout",
     "output_type": "stream",
     "text": [
      "{\"message\":\"not login\"}\n",
      "[]\n"
     ]
    }
   ],
   "source": [
    "# 合法缺省创建数据库\n",
    "\n",
    "res = requests.post(\n",
    "    url=HOST+\"db/create\",\n",
    "    json={\n",
    "        \"name\": \"test_db_01\",\n",
    "        \"org_name\": \"whut\",\n",
    "        \"title_field\": \"标题名称\",\n",
    "        \"time_field\": \"开题时间\",\n",
    "        \"cate_fields\": [],\n",
    "        \"id_fields\": [],\n",
    "        \"text_fields\": [],\n",
    "    },\n",
    "    cookies=cookies,\n",
    ")\n",
    "print(res.text)\n",
    "print([f\"{x.name}:{x.value}\" for x in res.cookies])"
   ]
  },
  {
   "cell_type": "code",
   "execution_count": 69,
   "metadata": {},
   "outputs": [
    {
     "name": "stdout",
     "output_type": "stream",
     "text": [
      "[{\"name\":\"test_db\",\"org_name\":\"public\",\"title_field\":\"项目名称\",\"time_field\":\"立项时间\",\"cate_fields\":[\"学科\",\"分类\",\"类型\"],\"id_fields\":[\"承办者\",\"指导老师\"],\"text_fields\":[\"项目摘要\"],\"create_time\":\"2024-04-06 19:25:38.070921\",\"id\":\"82703f51-15c9-4a91-87f7-991851e85679\",\"user_id\":null},{\"name\":\"test_db\",\"org_name\":\"public\",\"title_field\":\"项目名称\",\"time_field\":\"立项时间\",\"cate_fields\":[\"学科\",\"分类\",\"类型\"],\"id_fields\":[\"承办者\",\"指导老师\"],\"text_fields\":[\"项目摘要\"],\"create_time\":\"2024-04-06 19:27:03.272492\",\"id\":\"8e8cc12d-0113-4550-8511-5b7c6d801ea4\",\"user_id\":null},{\"name\":\"test_db\",\"org_name\":\"public\",\"title_field\":\"项目名称\",\"time_field\":\"立项时间\",\"cate_fields\":[\"学科\",\"分类\",\"类型\"],\"id_fields\":[\"承办者\",\"指导老师\"],\"text_fields\":[\"项目摘要\"],\"create_time\":\"2024-04-06 19:27:47.001678\",\"id\":\"a87a3331-847f-4957-8941-6fa93d61fe8a\",\"user_id\":null},{\"name\":\"test_db\",\"org_name\":\"public\",\"title_field\":\"项目名称\",\"time_field\":\"立项时间\",\"cate_fields\":[\"学科\",\"分类\",\"类型\"],\"id_fields\":[\"承办者\",\"指导老师\"],\"text_fields\":[\"项目摘要\"],\"create_time\":\"2024-04-06 19:28:19.569584\",\"id\":\"139a6b74-06c5-49d9-904c-d9ac98c23bcc\",\"user_id\":null},{\"name\":\"test_db\",\"org_name\":\"public\",\"title_field\":\"项目名称\",\"time_field\":\"立项时间\",\"cate_fields\":[\"学科\",\"分类\",\"类型\"],\"id_fields\":[\"承办者\",\"指导老师\"],\"text_fields\":[\"项目摘要\"],\"create_time\":\"2024-04-06 19:28:37.658738\",\"id\":\"b3b4cc1a-e311-415f-9864-9d1d86d9444a\",\"user_id\":\"13657290357\"},{\"name\":\"test_db_01\",\"org_name\":\"public\",\"title_field\":\"标题名称\",\"time_field\":\"开题时间\",\"cate_fields\":[],\"id_fields\":[],\"text_fields\":[],\"create_time\":\"2024-04-06 19:29:56.640616\",\"id\":\"a275c04f-9cfd-4c25-aafd-ee58c081d94d\",\"user_id\":\"13657290357\"},{\"name\":\"test_db_00\",\"org_name\":\"public\",\"title_field\":\"项目名称\",\"time_field\":\"立项时间\",\"cate_fields\":[\"学科\",\"分类\",\"类型\"],\"id_fields\":[\"承办者\",\"指导老师\"],\"text_fields\":[\"项目摘要\"],\"create_time\":\"2024-04-06 19:30:49.774332\",\"id\":\"27751b32-b81b-43f2-b7e3-585f8f7a4088\",\"user_id\":\"13657290357\"}]\n",
      "[]\n"
     ]
    }
   ],
   "source": [
    "# 获取数据库列表\n",
    "\n",
    "res = requests.get(\n",
    "    url=HOST+\"db/list\",\n",
    "    json={\n",
    "    },\n",
    "    cookies=cookies,\n",
    ")\n",
    "\n",
    "print(res.text)\n",
    "print([f\"{x.name}:{x.value}\" for x in res.cookies])"
   ]
  },
  {
   "cell_type": "code",
   "execution_count": null,
   "metadata": {},
   "outputs": [],
   "source": []
  }
 ],
 "metadata": {
  "kernelspec": {
   "display_name": "wf",
   "language": "python",
   "name": "python3"
  },
  "language_info": {
   "codemirror_mode": {
    "name": "ipython",
    "version": 3
   },
   "file_extension": ".py",
   "mimetype": "text/x-python",
   "name": "python",
   "nbconvert_exporter": "python",
   "pygments_lexer": "ipython3",
   "version": "3.10.13"
  }
 },
 "nbformat": 4,
 "nbformat_minor": 2
}
