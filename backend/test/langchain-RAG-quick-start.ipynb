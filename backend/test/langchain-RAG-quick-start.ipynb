{
 "cells": [
  {
   "cell_type": "code",
   "execution_count": 1,
   "metadata": {},
   "outputs": [
    {
     "data": {
      "text/plain": [
       "True"
      ]
     },
     "execution_count": 1,
     "metadata": {},
     "output_type": "execute_result"
    }
   ],
   "source": [
    "\n",
    "import dotenv\n",
    "\n",
    "# https://python.langchain.com/docs/use_cases/question_answering/quickstart\n",
    "# Get the API key from the user 'input' \n",
    "# import getpass\n",
    "# import os\n",
    "# os.environ[\"OPENAI_API_KEY\"] = getpass.getpass()\n",
    "# dot env ref:\n",
    "# https://stackoverflow.com/questions/40216311/reading-in-environment-variables-from-an-environment-file\n",
    "\n",
    "dotenv.load_dotenv(\"./.env\")\n"
   ]
  },
  {
   "cell_type": "code",
   "execution_count": 2,
   "metadata": {},
   "outputs": [
    {
     "data": {
      "text/plain": [
       "ChatOpenAI(client=<openai.resources.chat.completions.Completions object at 0x000001EC4A316620>, async_client=<openai.resources.chat.completions.AsyncCompletions object at 0x000001EC4A340190>, openai_api_key=SecretStr('**********'), openai_proxy='')"
      ]
     },
     "execution_count": 2,
     "metadata": {},
     "output_type": "execute_result"
    }
   ],
   "source": [
    "from langchain_openai import ChatOpenAI\n",
    "\n",
    "# Models: \n",
    "# https://platform.openai.com/docs/models/gpt-3-5-turbo\n",
    "llm = ChatOpenAI(model=\"gpt-3.5-turbo\")\n",
    "\n",
    "llm\n"
   ]
  },
  {
   "cell_type": "code",
   "execution_count": 3,
   "metadata": {},
   "outputs": [],
   "source": [
    "import asyncio\n",
    "import logging\n",
    "from typing import Dict, List, Optional, Sequence, Callable\n",
    "\n",
    "from langchain_core.documents import Document\n",
    "\n",
    "from langchain_community.document_loaders.base import BaseLoader\n",
    "\n",
    "logger = logging.getLogger(__name__)\n",
    "\n",
    "\n",
    "class ExMongodbLoader(BaseLoader):\n",
    "    \"\"\"Load MongoDB documents.\"\"\"\n",
    "\n",
    "    def __init__(\n",
    "        self,\n",
    "        connection_string: str,\n",
    "        db_name: str,\n",
    "        collection_name: str,\n",
    "        *,\n",
    "        filter_criteria: Optional[Dict] = None,\n",
    "        field_names: Optional[Sequence[str]] = None,\n",
    "        doc_transformer: Callable = str,\n",
    "    ) -> None:\n",
    "        try:\n",
    "            from motor.motor_asyncio import AsyncIOMotorClient\n",
    "        except ImportError as e:\n",
    "            raise ImportError(\n",
    "                \"Cannot import from motor, please install with `pip install motor`.\"\n",
    "            ) from e\n",
    "        if not connection_string:\n",
    "            raise ValueError(\"connection_string must be provided.\")\n",
    "\n",
    "        if not db_name:\n",
    "            raise ValueError(\"db_name must be provided.\")\n",
    "\n",
    "        if not collection_name:\n",
    "            raise ValueError(\"collection_name must be provided.\")\n",
    "\n",
    "        self.client = AsyncIOMotorClient(connection_string)\n",
    "        self.db_name = db_name\n",
    "        self.collection_name = collection_name\n",
    "        self.filter_criteria = filter_criteria or {}\n",
    "        self.field_names = field_names or []\n",
    "        self.doc_transformer = doc_transformer\n",
    "\n",
    "        self.db = self.client.get_database(db_name)\n",
    "        self.collection = self.db.get_collection(collection_name)\n",
    "\n",
    "    def load(self) -> List[Document]:\n",
    "        \"\"\"Load data into Document objects.\n",
    "\n",
    "        Attention:\n",
    "\n",
    "        This implementation starts an asyncio event loop which\n",
    "        will only work if running in a sync env. In an async env, it should\n",
    "        fail since there is already an event loop running.\n",
    "\n",
    "        This code should be updated to kick off the event loop from a separate\n",
    "        thread if running within an async context.\n",
    "        \"\"\"\n",
    "        return asyncio.run(self.aload())\n",
    "\n",
    "    async def aload(self) -> List[Document]:\n",
    "        \"\"\"Load data into Document objects.\"\"\"\n",
    "        result = []\n",
    "        total_docs = await self.collection.count_documents(self.filter_criteria)\n",
    "\n",
    "        # Construct the projection dictionary if field_names are specified\n",
    "        projection = (\n",
    "            {field: 1 for field in self.field_names} if self.field_names else None\n",
    "        )\n",
    "\n",
    "        async for doc in self.collection.find(self.filter_criteria, projection):\n",
    "            metadata = {\n",
    "                \"database\": self.db_name,\n",
    "                \"collection\": self.collection_name,\n",
    "            }\n",
    "\n",
    "            # Extract text content from filtered fields or use the entire document\n",
    "            text = self.doc_transformer(doc)\n",
    "\n",
    "            result.append(Document(page_content=text, metadata=metadata))\n",
    "\n",
    "        if len(result) != total_docs:\n",
    "            logger.warning(\n",
    "                f\"Only partial collection of documents returned. \"\n",
    "                f\"Loaded {len(result)} docs, expected {total_docs}.\"\n",
    "            )\n",
    "\n",
    "        return result\n"
   ]
  },
  {
   "cell_type": "code",
   "execution_count": 4,
   "metadata": {},
   "outputs": [],
   "source": [
    "\n",
    "# document loaders\n",
    "# https://python.langchain.com/docs/modules/data_connection/document_loaders/\n",
    "# https://python.langchain.com/docs/integrations/document_loaders/mongodb\n",
    "\n",
    "# add this import for running in jupyter notebook\n",
    "import nest_asyncio\n",
    "\n",
    "nest_asyncio.apply()\n",
    "\n",
    "# IT IS TOO WEAK:\n",
    "# from langchain_community.document_loaders.mongodb import MongodbLoader\n",
    "\n",
    "def transform_detail_doc(doc: dict) -> str:\n",
    "    return f'名称：{doc.get(\"项目名称\", \"\")}; 简介：{doc.get(\"项目信息\", {}).get(\"项目简介\", \"\")}'\n",
    "\n",
    "\n",
    "loader = ExMongodbLoader(\n",
    "    connection_string=\"mongodb://localhost:27017/\",\n",
    "    db_name=\"final\",\n",
    "    collection_name=\"itemDetail\",\n",
    "    doc_transformer=transform_detail_doc,\n",
    "    field_names=\"项目信息 项目名称\".split(),\n",
    ")\n",
    "# KeyError: '项目信息.项目简介'"
   ]
  },
  {
   "cell_type": "code",
   "execution_count": 5,
   "metadata": {},
   "outputs": [
    {
     "data": {
      "text/plain": [
       "247965"
      ]
     },
     "execution_count": 5,
     "metadata": {},
     "output_type": "execute_result"
    }
   ],
   "source": [
    "title_and_abstracts = loader.load()\n",
    "\n",
    "len(title_and_abstracts)\n"
   ]
  },
  {
   "cell_type": "markdown",
   "metadata": {},
   "source": [
    "\n",
    "- 250000 docs\n",
    "- 20 char/doc\n",
    "- 5 token/char\n",
    "- 0.002 rmb/k*token\n",
    "\n"
   ]
  },
  {
   "cell_type": "code",
   "execution_count": 14,
   "metadata": {},
   "outputs": [
    {
     "name": "stdout",
     "output_type": "stream",
     "text": [
      "50.0 rmb\n"
     ]
    }
   ],
   "source": [
    "print(250000*20*5*0.002/1000, \"rmb\")"
   ]
  },
  {
   "cell_type": "code",
   "execution_count": 6,
   "metadata": {},
   "outputs": [
    {
     "data": {
      "text/plain": [
       "Document(page_content='名称：高校校园建筑能耗模拟及节能改造设计---以广东白云学院为例; 简介：随着我国高等教育事业的发展，高等院校越来越多，学校招生人数以及老师人数越来越多，从相关资料了解到高校师生人数在成急速增长趋势，可见，我国高校数量增多，校园人员增长迅速，校园人口密度越来越大。高密度的人口必然带来高的能源消耗，在对所高等学校进行能源统计及结果测算时发现全国高等院校总能耗约占全国生活能耗的7%，是全国人均生活用能4倍；的高校总用水量占全国总用水量的8.14%，是全国人均用水量的1.9倍。从而可见高校能源消耗的特点为能耗总数量大，人均能耗大。根据相关学者在2008年对上海高校能耗调查发现高校的建筑能耗在高校总能耗中占83.2%的比例。  综合高校建筑能耗高的问题，本项目的主要研究目的是对广州地区建筑进行调查研究，结合建筑规划设计，构造技术和建筑材料使用状况的调研以及通过生态大师软件的模拟就广东白云学院校园既有建筑隔热性能进行实测分析,并对常用建筑节能措施的综合效益进行理论探讨。同时综合考虑和设计出合理的改造方案，探讨出适宜的节能改造的措施。期望通过本项目的广东白云学院的案例研究结论能为对湿热地区高校校园建筑的设计以及节能改造项目起到某种参考作用。 并且通过研究希望寻找出采用低成本高效益的适宜的建筑节能技术措施，创造舒适而健康的室内热建筑是本次项目的主要目的。', metadata={'database': 'final', 'collection': 'itemDetail'})"
      ]
     },
     "execution_count": 6,
     "metadata": {},
     "output_type": "execute_result"
    }
   ],
   "source": [
    "\n",
    "# 一个文档似乎有点太长了\n",
    "# 加入简介是否必要？\n",
    "# 直接切分也不太合适，会出现只有简介的部分，对大模型选题造成干扰\n",
    "\n",
    "title_and_abstracts[0]\n"
   ]
  },
  {
   "cell_type": "code",
   "execution_count": 7,
   "metadata": {},
   "outputs": [],
   "source": [
    "\n",
    "\n",
    "loader = ExMongodbLoader(\n",
    "    connection_string=\"mongodb://localhost:27017/\",\n",
    "    db_name=\"final\",\n",
    "    collection_name=\"itemDetail\",\n",
    "    field_names= [\"项目名称\"],\n",
    "    doc_transformer=lambda x:str(x.get(\"项目名称\", \"\"))\n",
    ")\n",
    "titles = loader.load()\n",
    "titles = titles[:32]\n",
    "\n"
   ]
  },
  {
   "cell_type": "code",
   "execution_count": 11,
   "metadata": {},
   "outputs": [
    {
     "name": "stdout",
     "output_type": "stream",
     "text": [
      "17.96875\n"
     ]
    }
   ],
   "source": [
    "\n",
    "chars_cnt = 0\n",
    "\n",
    "for doc in titles:\n",
    "    text = doc.page_content\n",
    "    chars_cnt += len(text)\n",
    "\n",
    "print(chars_cnt/len(titles))\n"
   ]
  },
  {
   "cell_type": "code",
   "execution_count": 8,
   "metadata": {},
   "outputs": [
    {
     "name": "stdout",
     "output_type": "stream",
     "text": [
      "高校校园建筑能耗模拟及节能改造设计---以广东白云学院为例\n",
      "大学生对中西方传统节日价值取向的研究\n",
      "“语伞”雨伞共享平台设计\n",
      "互联网+大学城闲散物流资源跨界整合创新实践\n",
      "太阳跟随系统\n",
      "移动快充跨境电商创业\n",
      "静态平衡仪\n",
      "疏勒河流域水-能源-粮食纽带关系研究\n"
     ]
    },
    {
     "data": {
      "text/plain": [
       "[None, None, None, None, None, None, None, None]"
      ]
     },
     "execution_count": 8,
     "metadata": {},
     "output_type": "execute_result"
    }
   ],
   "source": [
    "[print(x.page_content) for x in titles[:8]]"
   ]
  },
  {
   "cell_type": "code",
   "execution_count": 15,
   "metadata": {},
   "outputs": [
    {
     "name": "stderr",
     "output_type": "stream",
     "text": [
      "[INFO] [04-05 15:19:22] openapi_requestor.py:336 [t:29384]: requesting llm api endpoint: /embeddings/embedding-v1\n"
     ]
    }
   ],
   "source": [
    "from langchain_community.embeddings import QianfanEmbeddingsEndpoint\n",
    "\n",
    "from langchain_elasticsearch import ElasticsearchStore\n",
    "\n",
    "# https://python.langchain.com/docs/modules/data_connection/text_embedding/\n",
    "# https://python.langchain.com/docs/integrations/text_embedding/baidu_qianfan_endpoint/\n",
    "\n",
    "# https://python.langchain.com/docs/modules/data_connection/vectorstores/\n",
    "# https://python.langchain.com/docs/integrations/vectorstores/elasticsearch/\n",
    "\n",
    "\n",
    "\n",
    "embedding = QianfanEmbeddingsEndpoint(model=\"Embedding-V1\")\n",
    "\n",
    "res = embedding.embed_documents([\n",
    "    \"你好，世界！\", \n",
    "    \"Hello, world!\",\n",
    "    \"国内链接OpenAI不太方便，于是我使用百度公司的model。\",\n",
    "])\n"
   ]
  },
  {
   "cell_type": "code",
   "execution_count": 26,
   "metadata": {},
   "outputs": [
    {
     "name": "stdout",
     "output_type": "stream",
     "text": [
      "-0.02, -0.04, -0.03, 0.10, -0.03, -0.05, 0.01, -0.05, 0.03, 0.01, 0.04, -0.13, 0.08, -0.02, -0.07, -0.02, 0.00, -0.00, 0.03, 0.02, -0.01, -0.04, -0.05, -0.02, 0.03, 0.03, 0.08, 0.05, 0.02, -0.01, -0.00, 0.02, 0.03, -0.06, -0.02, 0.05, 0.04, 0.02, -0.08, 0.04, -0.01, 0.05, -0.00, 0.09, 0.03, -0.06, -0.04, -0.08, -0.08, -0.05, 0.00, 0.01, -0.02, 0.08, -0.01, -0.04, -0.11, -0.02, 0.07, -0.06, 0.01, 0.06, 0.08, -0.06, 0.06, 0.01, -0.00, -0.00, 0.07, 0.01, -0.02, -0.03, 0.06, 0.08, -0.06, 0.04, -0.03, 0.00, -0.00, -0.02, 0.06, -0.08, 0.09, -0.07, -0.08, -0.01, 0.02, 0.04, -0.02, -0.01, -0.01, -0.08, 0.02, -0.08, -0.08, -0.04, 0.02, -0.01, -0.01, -0.07, 0.07, 0.06, 0.07, 0.00, 0.08, -0.05, -0.07, -0.11, 0.01, 0.04, -0.02, 0.05, 0.02, -0.01, -0.05, 0.08, 0.07, -0.02, 0.02, -0.05, -0.07, 0.08, -0.02, 0.11, -0.05, 0.06, -0.12, -0.04, -0.05, 0.06, 0.01, 0.01, 0.07, -0.01, -0.03, 0.00, 0.03, -0.02, -0.04, 0.09, -0.10, -0.02, -0.02, 0.07, 0.05, 0.09, 0.05, -0.01, -0.03, 0.03, -0.03, 0.01, -0.02, 0.00, -0.08, 0.02, 0.01, -0.06, -0.02, 0.07, 0.00, 0.05, 0.12, -0.07, 0.07, -0.01, -0.05, 0.03, -0.00, 0.04, -0.03, 0.08, -0.01, -0.02, -0.02, 0.02, 0.04, 0.01, -0.06, -0.00, -0.02, -0.01, 0.07, 0.02, 0.04, -0.11, -0.09, 0.03, -0.02, -0.10, 0.02, 0.06, -0.05, 0.05, -0.00, -0.05, -0.02, -0.05, -0.03, 0.06, -0.01, -0.01, 0.03, -0.08, -0.06, -0.04, -0.01, 0.06, -0.02, -0.01, -0.03, 0.03, 0.06, -0.10, 0.01, 0.06, -0.00, -0.02, 0.12, 0.04, -0.01, -0.00, 0.09, -0.04, 0.10, 0.07, 0.03, 0.06, 0.02, 0.03, 0.02, 0.01, 0.05, 0.08, 0.05, 0.00, 0.00, -0.08, 0.03, 0.03, -0.08, -0.10, 0.01, -0.09, 0.01, -0.04, 0.02, 0.12, -0.06, 0.05, -0.08, -0.02, -0.07, -0.03, 0.03, -0.06, 0.00, 0.00, 0.00, -0.01, 0.00, 0.00, 0.00, 0.00, 0.00, 0.00, 0.00, 0.00, 0.00, 0.00, 0.00, 0.00, 0.00, 0.00, 0.00, 0.00, 0.00, 0.00, 0.00, 0.00, 0.00, 0.00, 0.00, 0.00, 0.00, 0.00, 0.00, 0.00, 0.00, 0.00, 0.00, 0.00, 0.00, 0.00, 0.00, 0.00, 0.00, 0.00, 0.00, 0.00, 0.00, 0.00, 0.00, 0.00, 0.00, 0.00, 0.00, 0.00, 0.00, 0.00, 0.00, 0.00, 0.00, 0.00, 0.00, 0.00, 0.00, 0.00, 0.00, 0.00, 0.00, 0.00, 0.00, 0.00, 0.00, 0.00, 0.00, 0.00, 0.00, 0.00, 0.00, 0.00, 0.00, 0.00, 0.00, 0.00, 0.00, 0.00, 0.00, 0.00, 0.00, 0.40, 0.00, 0.00, 0.00, 0.00, 0.00, 0.00, 0.00, -0.01, -0.39, 0.00, 0.00, 0.00, 0.00, 0.00, 0.00, 0.00, 0.00, 0.00, 0.00, 0.00, 0.00, 0.00, 0.00, 0.00, 0.00, 0.00, 0.00, 0.00, 0.00, 0.00, 0.00, 0.00, 0.00, 0.00, 0.00, 0.00, 0.00, 0.00, 0.00, 0.00, 0.00, 0.00, \n",
      "0.07, -0.02, -0.10, 0.09, -0.05, -0.14, 0.03, -0.02, -0.03, -0.02, -0.00, -0.09, 0.06, -0.00, -0.08, 0.01, 0.00, -0.01, -0.00, -0.04, 0.03, -0.05, 0.00, -0.04, 0.03, 0.01, 0.05, 0.08, 0.03, 0.01, 0.01, 0.07, 0.08, -0.08, -0.04, 0.06, -0.02, 0.00, -0.03, 0.09, 0.03, -0.00, 0.03, -0.02, 0.08, -0.12, -0.06, -0.02, -0.07, 0.03, 0.00, 0.04, 0.11, 0.07, -0.02, -0.01, -0.07, -0.03, 0.06, -0.05, -0.05, 0.04, 0.10, -0.05, 0.10, 0.06, -0.03, 0.02, 0.04, -0.01, 0.03, -0.06, 0.03, 0.03, -0.02, 0.08, -0.01, 0.02, 0.07, -0.08, 0.08, 0.01, 0.09, 0.02, -0.12, -0.04, 0.11, 0.01, -0.00, -0.03, 0.01, -0.08, 0.08, -0.01, -0.11, -0.07, -0.05, 0.03, 0.01, -0.11, 0.01, 0.08, -0.00, 0.00, 0.10, -0.06, -0.08, -0.08, 0.03, 0.01, -0.08, 0.05, -0.05, 0.01, 0.01, 0.04, 0.01, -0.02, 0.01, 0.01, -0.03, 0.02, -0.05, 0.07, -0.07, 0.05, -0.14, -0.00, 0.01, 0.06, 0.08, 0.05, -0.04, 0.04, 0.02, 0.05, -0.02, -0.06, -0.06, 0.08, -0.06, 0.08, 0.05, 0.00, -0.04, 0.02, 0.03, -0.02, -0.03, -0.04, -0.08, 0.06, -0.04, -0.04, -0.08, 0.00, 0.11, -0.11, -0.07, 0.04, 0.02, -0.03, 0.07, -0.05, 0.02, 0.01, -0.01, 0.04, 0.05, 0.05, -0.07, 0.06, 0.02, -0.07, 0.04, 0.03, 0.04, 0.04, 0.05, -0.02, -0.05, -0.04, 0.05, -0.08, 0.04, -0.01, -0.06, 0.09, 0.02, -0.10, 0.02, 0.07, -0.03, -0.01, 0.00, -0.01, -0.00, -0.05, -0.04, 0.04, -0.01, 0.01, -0.00, -0.07, 0.02, -0.03, -0.10, 0.01, -0.02, 0.01, -0.00, 0.02, -0.01, -0.08, 0.02, 0.10, 0.03, -0.04, 0.17, 0.03, -0.06, 0.01, 0.11, -0.07, 0.07, 0.04, -0.00, -0.02, -0.00, -0.07, -0.01, -0.03, 0.04, 0.11, -0.02, -0.03, -0.09, -0.06, 0.06, -0.07, -0.00, -0.03, 0.00, -0.04, 0.01, -0.02, 0.08, 0.09, -0.04, 0.03, -0.06, -0.01, -0.01, 0.05, 0.00, -0.08, 0.00, 0.00, -0.00, 0.00, 0.00, 0.00, 0.00, 0.00, 0.00, 0.00, 0.00, 0.00, 0.00, 0.00, 0.00, 0.00, 0.00, 0.00, 0.00, 0.00, 0.00, 0.00, 0.00, 0.00, 0.00, 0.00, 0.00, 0.00, 0.00, 0.00, 0.00, 0.00, 0.00, 0.00, 0.00, 0.00, 0.00, 0.00, 0.00, 0.00, 0.00, 0.00, 0.00, 0.00, 0.00, 0.00, 0.00, 0.00, 0.00, 0.00, 0.00, 0.00, 0.00, 0.00, 0.00, 0.00, 0.00, 0.00, 0.00, 0.00, 0.00, 0.00, 0.00, 0.00, 0.00, 0.00, 0.00, 0.00, 0.00, 0.00, 0.00, 0.00, 0.00, 0.00, 0.00, 0.00, 0.00, 0.00, 0.00, 0.00, 0.00, 0.00, 0.00, 0.00, 0.00, 0.00, 0.00, 0.00, 0.00, 0.00, 0.00, 0.00, 0.00, 0.00, 0.00, 0.00, 0.00, 0.00, 0.00, 0.00, 0.00, 0.00, -0.34, 0.00, 0.00, 0.00, 0.00, 0.00, 0.00, 0.00, 0.00, 0.00, 0.00, 0.00, 0.00, 0.00, -0.35, 0.00, 0.00, 0.00, 0.00, 0.00, 0.00, 0.00, 0.00, 0.00, 0.00, 0.00, \n",
      "0.08, 0.08, 0.04, 0.03, -0.01, -0.08, -0.04, -0.01, -0.05, 0.07, 0.05, -0.00, -0.08, 0.04, -0.11, -0.02, -0.04, -0.04, -0.05, -0.00, -0.00, -0.07, 0.01, -0.10, 0.10, -0.00, 0.02, 0.09, 0.07, -0.02, -0.13, -0.02, 0.05, -0.04, -0.01, 0.06, 0.03, 0.07, 0.00, 0.05, 0.01, -0.04, -0.00, -0.05, 0.05, -0.03, -0.08, 0.05, 0.01, 0.02, 0.04, 0.03, 0.02, 0.02, 0.04, -0.01, -0.06, -0.04, 0.07, 0.10, -0.09, -0.03, -0.02, -0.08, 0.15, -0.04, -0.04, 0.04, -0.03, 0.02, 0.02, 0.04, -0.09, 0.08, 0.09, 0.01, -0.01, 0.05, 0.00, -0.02, -0.00, 0.05, 0.05, -0.07, -0.05, 0.05, 0.00, 0.01, 0.09, -0.01, -0.10, -0.10, 0.11, 0.00, -0.05, 0.02, -0.04, 0.02, -0.02, 0.01, 0.01, -0.05, -0.02, -0.06, 0.08, -0.05, -0.03, -0.06, -0.02, -0.03, -0.05, 0.01, -0.05, 0.00, 0.07, -0.05, -0.07, -0.04, -0.05, -0.02, -0.10, 0.09, -0.03, 0.09, 0.07, -0.04, -0.06, -0.02, 0.02, 0.05, -0.05, 0.06, 0.04, 0.00, 0.07, 0.00, -0.04, -0.01, -0.05, -0.07, -0.01, 0.08, -0.04, 0.07, 0.01, 0.03, 0.02, 0.09, -0.05, 0.04, -0.05, 0.05, -0.04, 0.02, -0.07, -0.03, 0.01, 0.04, -0.08, -0.01, -0.04, 0.02, -0.03, -0.08, 0.08, -0.09, -0.04, 0.11, 0.04, -0.03, -0.03, 0.04, 0.05, -0.03, -0.03, -0.00, 0.01, 0.07, 0.05, 0.01, -0.06, -0.05, 0.06, 0.01, -0.01, 0.02, 0.04, -0.00, 0.04, 0.02, -0.10, 0.03, 0.11, 0.00, 0.08, -0.04, -0.00, -0.06, -0.06, -0.05, 0.03, -0.02, 0.04, 0.09, 0.04, -0.02, 0.11, 0.03, 0.04, 0.09, 0.13, -0.04, -0.10, 0.03, -0.07, 0.06, -0.02, -0.00, 0.08, -0.06, -0.05, -0.04, 0.09, 0.08, -0.07, 0.00, -0.04, -0.05, 0.04, 0.06, -0.02, -0.04, -0.03, 0.08, 0.09, 0.02, -0.06, -0.05, -0.06, 0.00, -0.02, -0.08, 0.09, -0.10, 0.02, -0.07, -0.01, 0.08, -0.06, -0.10, -0.07, 0.03, -0.08, 0.04, -0.02, 0.02, 0.00, 0.00, 0.00, 0.00, 0.00, 0.00, 0.00, 0.00, 0.00, -0.21, 0.00, 0.00, 0.01, 0.00, -0.02, 0.00, 0.00, -0.15, 0.00, 0.00, 0.00, 0.00, 0.00, 0.00, 0.00, 0.00, -0.21, 0.00, 0.00, 0.00, 0.00, 0.00, 0.00, 0.00, 0.00, 0.00, 0.00, 0.00, 0.00, -0.04, 0.00, 0.00, 0.00, 0.00, 0.00, 0.00, 0.00, 0.00, 0.00, 0.00, 0.00, 0.00, 0.00, 0.00, 0.00, 0.00, 0.00, 0.00, 0.00, 0.00, 0.00, 0.00, 0.00, 0.00, 0.00, 0.00, -0.02, 0.00, 0.00, 0.00, 0.00, 0.00, 0.00, 0.00, 0.00, 0.00, 0.00, 0.00, 0.21, 0.08, 0.00, 0.00, 0.00, 0.00, 0.00, 0.00, 0.00, 0.00, 0.00, 0.00, 0.00, 0.00, 0.00, 0.00, 0.00, 0.00, 0.09, 0.00, 0.00, 0.00, 0.00, 0.00, 0.00, 0.00, 0.00, 0.00, 0.00, 0.00, -0.15, 0.00, 0.00, 0.00, 0.00, 0.00, 0.00, 0.00, 0.00, 0.00, 0.00, -0.15, 0.00, 0.00, 0.00, 0.00, 0.00, 0.00, 0.00, 0.00, \n",
      "0.46821476423443054\n",
      "0.1456205150141733\n",
      "0.22172342720550553\n"
     ]
    }
   ],
   "source": [
    "[print(f\"{num:.2f}\", end=\", \") for num in res[0]]\n",
    "print()\n",
    "[print(f\"{num:.2f}\", end=\", \") for num in res[1]]\n",
    "print()\n",
    "[print(f\"{num:.2f}\", end=\", \") for num in res[-1]]\n",
    "type(res[0])\n",
    "\n",
    "import numpy as np\n",
    "\n",
    "arrays = [np.array(ls) for ls in res]\n",
    "\n",
    "print()\n",
    "print(np.dot(arrays[0], arrays[1]))\n",
    "print(np.dot(arrays[0], arrays[2]))\n",
    "print(np.dot(arrays[1], arrays[2]))\n"
   ]
  },
  {
   "cell_type": "code",
   "execution_count": 31,
   "metadata": {},
   "outputs": [
    {
     "name": "stderr",
     "output_type": "stream",
     "text": [
      "C:\\Users\\realj\\AppData\\Local\\Temp\\ipykernel_32572\\187219858.py:7: DeprecationWarning: Passing transport options in the API method is deprecated. Use 'Elasticsearch.options()' instead.\n",
      "  elastic_vector_store.client.delete_by_query(query={\n",
      "[INFO] [04-05 15:45:58] openapi_requestor.py:336 [t:29384]: requesting llm api endpoint: /embeddings/embedding-v1\n"
     ]
    },
    {
     "name": "stderr",
     "output_type": "stream",
     "text": [
      "[INFO] [04-05 15:45:59] openapi_requestor.py:336 [t:29384]: requesting llm api endpoint: /embeddings/embedding-v1\n"
     ]
    }
   ],
   "source": [
    "elastic_vector_store = ElasticsearchStore(\n",
    "    es_url=\"http://localhost:9200\",\n",
    "    index_name=\"rag_test\",\n",
    "    embedding=embedding,\n",
    ")\n",
    "\n",
    "elastic_vector_store.client.delete_by_query(query={\n",
    "    \"match_all\": {}\n",
    "}, index=\"rag_test\", ignore=[400, 404],)\n",
    "\n",
    "elastic_vector_store = ElasticsearchStore.from_documents(\n",
    "    documents=titles,\n",
    "    embedding=embedding,\n",
    "    index_name=\"rag_test\",\n",
    "    es_url=\"http://localhost:9200\",\n",
    ")\n"
   ]
  },
  {
   "cell_type": "code",
   "execution_count": 36,
   "metadata": {},
   "outputs": [
    {
     "name": "stderr",
     "output_type": "stream",
     "text": [
      "[INFO] [04-05 15:47:05] openapi_requestor.py:336 [t:29384]: requesting llm api endpoint: /embeddings/embedding-v1\n"
     ]
    },
    {
     "name": "stdout",
     "output_type": "stream",
     "text": [
      "5\n",
      "互联网+大学城闲散物流资源跨界整合创新实践\n",
      "高校校园建筑能耗模拟及节能改造设计---以广东白云学院为例\n",
      "“海上丝绸之路﹒中国史迹”申报世界文化遗产背景下台山山咀码头、三洲港及沿港临街环境整治设计\n",
      "大学毕业生面试服装设计与服饰搭配咨询服务工作室\n",
      "大学生对中西方传统节日价值取向的研究\n"
     ]
    },
    {
     "data": {
      "text/plain": [
       "[None, None, None, None, None]"
      ]
     },
     "execution_count": 36,
     "metadata": {},
     "output_type": "execute_result"
    }
   ],
   "source": [
    "retriever = elastic_vector_store.as_retriever(search_type=\"similarity\", search_kwargs={\"k\": 5})\n",
    "\n",
    "retrieved_docs = retriever.invoke(\"大学生平台\")\n",
    "\n",
    "print(len(retrieved_docs))\n",
    "[print(doc.page_content) for doc in retrieved_docs]\n"
   ]
  },
  {
   "cell_type": "code",
   "execution_count": 37,
   "metadata": {},
   "outputs": [
    {
     "name": "stderr",
     "output_type": "stream",
     "text": [
      "[INFO] [04-05 15:47:29] openapi_requestor.py:336 [t:29384]: requesting llm api endpoint: /embeddings/embedding-v1\n"
     ]
    },
    {
     "name": "stdout",
     "output_type": "stream",
     "text": [
      "5\n",
      "刻纸艺术在室内陈设中的传承与创新\n",
      "高热导事故容错核燃料芯块的高温高压制备与研究\n",
      "多旋翼飞行器电网巡检相关问题的研究\n",
      "盆栽行业新型树屋的造景研发\n",
      "智能除臭马桶优化设计\n"
     ]
    },
    {
     "data": {
      "text/plain": [
       "[None, None, None, None, None]"
      ]
     },
     "execution_count": 37,
     "metadata": {},
     "output_type": "execute_result"
    }
   ],
   "source": [
    "retrieved_docs = retriever.invoke(\"创新研究啊\")\n",
    "\n",
    "print(len(retrieved_docs))\n",
    "[print(doc.page_content) for doc in retrieved_docs]"
   ]
  },
  {
   "cell_type": "code",
   "execution_count": 39,
   "metadata": {},
   "outputs": [
    {
     "name": "stderr",
     "output_type": "stream",
     "text": [
      "[WARNING] [04-05 16:16:23] base.py:406 [t:29384]: retry is not available when stream is enabled\n",
      "[INFO] [04-05 16:16:23] openapi_requestor.py:336 [t:29384]: requesting llm api endpoint: /chat/completions\n"
     ]
    },
    {
     "data": {
      "text/plain": [
       "AIMessage(content='你好，Jayden！有什么我可以帮助你的吗？', response_metadata={'token_usage': {}, 'model_name': 'ERNIE-3.5-8K', 'finish_reason': 'stop'}, id='run-855959a1-b19a-4460-84de-9603ce48fa94-0')"
      ]
     },
     "execution_count": 39,
     "metadata": {},
     "output_type": "execute_result"
    }
   ],
   "source": [
    "from langchain_community.chat_models import QianfanChatEndpoint\n",
    "from langchain_core.language_models.chat_models import HumanMessage\n",
    "\n",
    "# https://python.langchain.com/docs/integrations/chat/\n",
    "# https://python.langchain.com/docs/integrations/chat/baidu_qianfan_endpoint/\n",
    "\n",
    "llm = QianfanChatEndpoint(model=\"ERNIE-3.5-8K\", streaming=True)\n",
    "messages = [HumanMessage(content=\"你好，我是Jayden\")]\n",
    "llm.invoke(messages)\n"
   ]
  },
  {
   "cell_type": "code",
   "execution_count": 41,
   "metadata": {},
   "outputs": [],
   "source": [
    "from langchain_core.prompts import PromptTemplate\n",
    "\n",
    "template = \"\"\"你是大学生创新创业指导中心的专业教授，请你根据学生情况和往年选题，为学生拟定几个合适的选题。\n",
    "学生情况：{student_info}\n",
    "往年选题：{history_titles}\n",
    "拟定新的选题：\"\"\"\n",
    "\n",
    "rag_prompt = PromptTemplate.from_template(template)\n"
   ]
  },
  {
   "cell_type": "code",
   "execution_count": 46,
   "metadata": {},
   "outputs": [
    {
     "name": "stderr",
     "output_type": "stream",
     "text": [
      "[INFO] [04-05 16:28:07] openapi_requestor.py:336 [t:29384]: requesting llm api endpoint: /embeddings/embedding-v1\n"
     ]
    },
    {
     "name": "stdout",
     "output_type": "stream",
     "text": [
      "你是大学生创新创业指导中心的专业教授，请你根据学生情况和往年选题，为学生拟定几个合适的选题。\n",
      "学生情况：信息管理与信息系统专业，自然语言处理方向\n",
      "往年选题：基于深度学习理论的城市轨道交通智能视频监控与报警系统;基于机器学习的可拼接智能挂钟系统研发;太阳跟随系统;大学毕业生面试服装设计与服饰搭配咨询服务工作室;高校校园建筑能耗模拟及节能改造设计---以广东白云学院为例\n",
      "拟定新的选题：\n"
     ]
    }
   ],
   "source": [
    "ex_stu_info = \"信息管理与信息系统专业，自然语言处理方向\"\n",
    "\n",
    "ex_msg = rag_prompt.invoke(\n",
    "    {\n",
    "        \"student_info\": ex_stu_info,\n",
    "        \"history_titles\": \";\".join([\n",
    "            doc.page_content for doc in\n",
    "            retriever.invoke(ex_stu_info, {\"k\": 5})\n",
    "        ])\n",
    "    }\n",
    ").to_messages()\n",
    "\n",
    "print(ex_msg[0].content)"
   ]
  },
  {
   "cell_type": "code",
   "execution_count": 47,
   "metadata": {},
   "outputs": [],
   "source": [
    "from langchain_core.output_parsers import StrOutputParser\n",
    "from langchain_core.runnables import RunnablePassthrough\n",
    "\n",
    "\n",
    "def format_docs(docs):\n",
    "    return \";\".join(doc.page_content for doc in docs)\n",
    "\n",
    "\n",
    "rag_chain = (\n",
    "    {\n",
    "        \"history_titles\": retriever | format_docs, \n",
    "        \"student_info\": RunnablePassthrough(),\n",
    "    }\n",
    "    | rag_prompt\n",
    "    | llm\n",
    "    | StrOutputParser()\n",
    ")"
   ]
  },
  {
   "cell_type": "code",
   "execution_count": 50,
   "metadata": {},
   "outputs": [
    {
     "name": "stderr",
     "output_type": "stream",
     "text": [
      "[INFO] [04-05 16:36:09] openapi_requestor.py:336 [t:23356]: requesting llm api endpoint: /embeddings/embedding-v1\n"
     ]
    },
    {
     "name": "stderr",
     "output_type": "stream",
     "text": [
      "[WARNING] [04-05 16:36:10] base.py:406 [t:29384]: retry is not available when stream is enabled\n",
      "[INFO] [04-05 16:36:10] openapi_requestor.py:336 [t:29384]: requesting llm api endpoint: /chat/completions\n"
     ]
    },
    {
     "name": "stdout",
     "output_type": "stream",
     "text": [
      "考虑到学生的专业背景、自然语言处理方向的兴趣以及数学建模比赛的经历，我为学生拟定了以下几个合适的选题：\n",
      "\n",
      "1. **基于自然语言处理的智能客服系统研发**\n",
      "\n",
      "\n",
      "\t* **背景**：随着人工智能技术的发展，智能客服系统在企业中的应用越来越广泛。结合自然语言处理技术，可以实现更加智能、高效的客户服务。\n",
      "\t* **研究内容**：研究并应用自然语言处理技术，如文本分类、情感分析、实体识别等，构建一个能够准确理解并回复客户咨询的智能客服系统。通过数学建模优化系统的性能，提高客户满意度。\n",
      "2. **基于深度学习的社交媒体情感分析**\n",
      "\n",
      "\n",
      "\t* **背景**：社交媒体上产生了大量的用户评论和反馈，通过情感分析可以了解用户的真实想法和意见。\n",
      "\t* **研究内容**：利用深度学习技术，如循环神经网络（RNN）或长短期记忆网络（LSTM），对社交媒体上的文本数据进行情感分析。通过数学建模方法，提高情感分析的准确性和效率。\n",
      "3. **基于自然语言处理的智能文本摘要生成系统**\n",
      "\n",
      "\n",
      "\t* **背景**：在信息爆炸的时代，如何快速获取关键信息成为了一个重要的问题。智能文本摘要生成系统可以帮助用户快速浏览和理解文本内容。\n",
      "\t* **研究内容**：结合自然语言处理技术，研究并开发一个能够自动生成文本摘要的系统。利用数学建模方法，优化摘要生成的质量和效率。\n",
      "4. **基于机器学习的在线教育平台个性化推荐系统**\n",
      "\n",
      "\n",
      "\t* **背景**：在线教育平台的发展迅速，如何为用户提供个性化的学习资源推荐是一个关键问题。\n",
      "\t* **研究内容**：利用机器学习技术，如协同过滤、内容推荐等，构建一个能够为用户推荐合适学习资源的个性化推荐系统。通过数学建模方法，提高推荐的准确性和用户满意度。\n",
      "\n",
      "这些选题结合了学生的专业背景、兴趣方向和数学建模经验，旨在通过实践和研究，提高学生的创新能力和解决问题的能力。"
     ]
    }
   ],
   "source": [
    "for chunk in rag_chain.stream(\"信息管理与信息系统专业，自然语言处理方向，数学建模比赛经历\"):\n",
    "    print(chunk, end=\"\", flush=True)"
   ]
  },
  {
   "cell_type": "code",
   "execution_count": 60,
   "metadata": {},
   "outputs": [],
   "source": [
    "new_template = \"\"\"你是大学生创新创业指导中心的专业教授，请你根据学生情况和往年选题，为学生拟定几个合适的选题。\n",
    "学生情况：{student_info}\n",
    "往年选题：{history_titles}\n",
    "注意：严禁重复往年选题内容，**无需解释拟定选题的理由**，一行一个直接列出选题。\n",
    "拟定新的选题：\"\"\"\n",
    "\n",
    "new_rag_prompt = PromptTemplate.from_template(new_template)\n"
   ]
  },
  {
   "cell_type": "code",
   "execution_count": 61,
   "metadata": {},
   "outputs": [
    {
     "name": "stderr",
     "output_type": "stream",
     "text": [
      "[INFO] [04-05 16:39:25] openapi_requestor.py:336 [t:15308]: requesting llm api endpoint: /embeddings/embedding-v1\n"
     ]
    },
    {
     "name": "stderr",
     "output_type": "stream",
     "text": [
      "[WARNING] [04-05 16:39:25] base.py:406 [t:29384]: retry is not available when stream is enabled\n",
      "[INFO] [04-05 16:39:25] openapi_requestor.py:336 [t:29384]: requesting llm api endpoint: /chat/completions\n"
     ]
    },
    {
     "name": "stdout",
     "output_type": "stream",
     "text": [
      "1. 基于自然语言处理的在线评论情感分析系统\n",
      "2. 智能问答系统设计与实现\n",
      "3. 社交媒体用户行为分析与预测\n",
      "4. 基于知识图谱的信息推荐系统\n",
      "5. 多模态情感识别技术在人机交互中的应用"
     ]
    }
   ],
   "source": [
    "new_rag_chain = (\n",
    "    {\n",
    "        \"history_titles\": retriever | format_docs, \n",
    "        \"student_info\": RunnablePassthrough(),\n",
    "    }\n",
    "    | new_rag_prompt\n",
    "    | llm\n",
    "    | StrOutputParser()\n",
    ")\n",
    "for chunk in new_rag_chain.stream(\"信息管理与信息系统专业，自然语言处理方向，数学建模比赛经历\"):\n",
    "    print(chunk, end=\"\", flush=True)"
   ]
  },
  {
   "cell_type": "code",
   "execution_count": 62,
   "metadata": {},
   "outputs": [
    {
     "name": "stderr",
     "output_type": "stream",
     "text": [
      "[INFO] [04-05 16:42:42] openapi_requestor.py:336 [t:32104]: requesting llm api endpoint: /embeddings/embedding-v1\n",
      "[WARNING] [04-05 16:42:43] base.py:406 [t:29384]: retry is not available when stream is enabled\n",
      "[INFO] [04-05 16:42:43] openapi_requestor.py:336 [t:29384]: requesting llm api endpoint: /chat/completions\n"
     ]
    },
    {
     "name": "stdout",
     "output_type": "stream",
     "text": [
      "1. 基于大数据的企业税务风险预测与防控策略\n",
      "2. 资本结构优化下的企业财务决策支持系统设计与实现\n",
      "3. 跨国企业税务筹划与合规性管理研究\n",
      "4. 基于财务视角的中小企业成长策略研究\n",
      "5. 会计准则变化对企业财务报表的影响分析"
     ]
    }
   ],
   "source": [
    "for chunk in new_rag_chain.stream(\"会计学专业，企业税务与决策项目经历，资本结构优化方向\"):\n",
    "    print(chunk, end=\"\", flush=True)"
   ]
  },
  {
   "cell_type": "code",
   "execution_count": null,
   "metadata": {},
   "outputs": [],
   "source": []
  }
 ],
 "metadata": {
  "kernelspec": {
   "display_name": "wf",
   "language": "python",
   "name": "python3"
  },
  "language_info": {
   "codemirror_mode": {
    "name": "ipython",
    "version": 3
   },
   "file_extension": ".py",
   "mimetype": "text/x-python",
   "name": "python",
   "nbconvert_exporter": "python",
   "pygments_lexer": "ipython3",
   "version": "3.10.13"
  }
 },
 "nbformat": 4,
 "nbformat_minor": 2
}
