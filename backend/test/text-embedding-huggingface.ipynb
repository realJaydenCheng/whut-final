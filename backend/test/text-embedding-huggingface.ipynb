{
 "cells": [
  {
   "cell_type": "code",
   "execution_count": 1,
   "metadata": {},
   "outputs": [
    {
     "name": "stdout",
     "output_type": "stream",
     "text": [
      "True\n"
     ]
    }
   ],
   "source": [
    "import torch\n",
    "print(\n",
    "    torch.cuda.is_available()\n",
    ")\n"
   ]
  },
  {
   "cell_type": "code",
   "execution_count": 2,
   "metadata": {},
   "outputs": [
    {
     "data": {
      "text/plain": [
       "tensor([0.8980])"
      ]
     },
     "execution_count": 2,
     "metadata": {},
     "output_type": "execute_result"
    }
   ],
   "source": [
    "\n",
    "a = torch.rand((1,5))\n",
    "b = torch.rand((1,5))\n",
    "torch.cosine_similarity(a, b)\n"
   ]
  },
  {
   "cell_type": "code",
   "execution_count": 3,
   "metadata": {},
   "outputs": [
    {
     "name": "stderr",
     "output_type": "stream",
     "text": [
      "c:\\Users\\realj\\.conda\\envs\\wf\\lib\\site-packages\\tqdm\\auto.py:21: TqdmWarning: IProgress not found. Please update jupyter and ipywidgets. See https://ipywidgets.readthedocs.io/en/stable/user_install.html\n",
      "  from .autonotebook import tqdm as notebook_tqdm\n"
     ]
    }
   ],
   "source": [
    "# https://huggingface.co/sentence-transformers\n",
    "# https://www.sbert.net/\n",
    "# https://huggingface.co/intfloat/multilingual-e5-large-instruct\n",
    "# https://www.sbert.net/docs/pretrained_models.html\n",
    "\n",
    "from sentence_transformers import SentenceTransformer\n"
   ]
  },
  {
   "cell_type": "code",
   "execution_count": 4,
   "metadata": {},
   "outputs": [],
   "source": [
    "def test(model): \n",
    "    \n",
    "    good = model.encode(\"好评\")\n",
    "    bad = model.encode(\"差评\")\n",
    "\n",
    "    good0 = model.encode(\"料子很结实，穿上身很显年轻，推荐给朋友了\")\n",
    "    bad0 = model.encode(\"衣服很垃圾，像个抹布一样，和预览图完全不符\")\n",
    "\n",
    "    print(\"g g\", good @ good0)\n",
    "    print(\"g b\", good @ bad0)\n",
    "    print(\"b g \", bad @ good0)\n",
    "    print(\"b b \", bad @ bad0)\n",
    "\n",
    "    hello_cn = model.encode(\"你好啊！\")\n",
    "    hello_en = model.encode(\"hello!\")\n",
    "    bad_cn = model.encode(\"你太坏。\")\n",
    "    bad_en = model.encode(\"you're bad.\")\n",
    "\n",
    "    print(\"hello_cn and hello_en\", hello_cn @ hello_en)\n",
    "    print(\"hello_cn and bad_en\", hello_cn @ bad_en)\n",
    "    print(\"hello_cn and bad_cn\", hello_cn @ bad_cn)\n",
    "    print(\"hello_en and bad_en\", hello_en @ bad_en)\n",
    "    print(\"hello_en and bad_cn\", hello_en @ bad_cn)\n",
    "    print(\"bad_cn and bad_en\", bad_cn @ bad_en)\n",
    "\n"
   ]
  },
  {
   "cell_type": "code",
   "execution_count": 5,
   "metadata": {},
   "outputs": [],
   "source": [
    "from sentence_transformers import SentenceTransformer\n",
    "e5 = SentenceTransformer(\n",
    "    'intfloat/multilingual-e5-large-instruct', \n",
    "    device='cuda'\n",
    ")\n"
   ]
  },
  {
   "cell_type": "code",
   "execution_count": 6,
   "metadata": {},
   "outputs": [
    {
     "name": "stdout",
     "output_type": "stream",
     "text": [
      "g g 0.83875597\n",
      "g b 0.81708753\n",
      "b g  0.81466293\n",
      "b b  0.8627596\n",
      "hello_cn and hello_en 0.9092507\n",
      "hello_cn and bad_en 0.8012246\n",
      "hello_cn and bad_cn 0.85779\n",
      "hello_en and bad_en 0.81043184\n",
      "hello_en and bad_cn 0.801782\n",
      "bad_cn and bad_en 0.9231358\n"
     ]
    }
   ],
   "source": [
    "test(e5)"
   ]
  },
  {
   "cell_type": "code",
   "execution_count": 7,
   "metadata": {},
   "outputs": [],
   "source": [
    "mini = SentenceTransformer(\"sentence-transformers/all-MiniLM-L6-v2\")\n"
   ]
  },
  {
   "cell_type": "code",
   "execution_count": 8,
   "metadata": {},
   "outputs": [
    {
     "name": "stdout",
     "output_type": "stream",
     "text": [
      "g g 0.4674742\n",
      "g b 0.46619284\n",
      "b g  0.4674742\n",
      "b b  0.46619284\n",
      "hello_cn and hello_en 0.3303935\n",
      "hello_cn and bad_en 0.097388536\n",
      "hello_cn and bad_cn 0.69132143\n",
      "hello_en and bad_en 0.14327559\n",
      "hello_en and bad_cn 0.2154766\n",
      "bad_cn and bad_en 0.08104727\n"
     ]
    }
   ],
   "source": [
    "test(mini)\n"
   ]
  },
  {
   "cell_type": "code",
   "execution_count": null,
   "metadata": {},
   "outputs": [],
   "source": []
  }
 ],
 "metadata": {
  "kernelspec": {
   "display_name": "wf",
   "language": "python",
   "name": "python3"
  },
  "language_info": {
   "codemirror_mode": {
    "name": "ipython",
    "version": 3
   },
   "file_extension": ".py",
   "mimetype": "text/x-python",
   "name": "python",
   "nbconvert_exporter": "python",
   "pygments_lexer": "ipython3",
   "version": "3.10.13"
  }
 },
 "nbformat": 4,
 "nbformat_minor": 2
}
